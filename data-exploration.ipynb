{
 "cells": [
  {
   "cell_type": "markdown",
   "metadata": {},
   "source": []
  },
  {
   "cell_type": "code",
   "execution_count": 2,
   "metadata": {},
   "outputs": [],
   "source": [
    "import os\n",
    "import pandas as pd\n",
    "import matplotlib.pyplot as plt"
   ]
  },
  {
   "cell_type": "code",
   "execution_count": 3,
   "metadata": {},
   "outputs": [
    {
     "data": {
      "text/plain": [
       "\"\\n# List of files in the MMASH dataset\\nfiles = {\\n    'user_info': 'user_info.csv',\\n    'sleep': 'sleep.csv',\\n    'RR': 'RR.csv',\\n    'questionnaire': 'questionnaire.csv',\\n    'activity': 'Activity.csv',\\n    'actigraph': 'Actigraph.csv',\\n    'saliva': 'saliva.csv'\\n}\\n\""
      ]
     },
     "execution_count": 3,
     "metadata": {},
     "output_type": "execute_result"
    }
   ],
   "source": [
    "# Path to your MMASH dataset folder\n",
    "DATA_DIR = r'mmash\\mmash\\MMASH\\DataPaper' \n",
    "\n",
    "'''\n",
    "# List of files in the MMASH dataset\n",
    "files = {\n",
    "    'user_info': 'user_info.csv',\n",
    "    'sleep': 'sleep.csv',\n",
    "    'RR': 'RR.csv',\n",
    "    'questionnaire': 'questionnaire.csv',\n",
    "    'activity': 'Activity.csv',\n",
    "    'actigraph': 'Actigraph.csv',\n",
    "    'saliva': 'saliva.csv'\n",
    "}\n",
    "'''"
   ]
  },
  {
   "cell_type": "code",
   "execution_count": 4,
   "metadata": {},
   "outputs": [],
   "source": [
    "activity_durations = {}\n",
    "\n",
    "activity_labels = {\n",
    "    1: \"Sleeping\",\n",
    "    2: \"Lying down\",\n",
    "    3: \"Sitting\",\n",
    "    4: \"Light movement\",\n",
    "    5: \"Medium movement\",\n",
    "    6: \"Heavy movement\",\n",
    "    7: \"Eating\",\n",
    "    8: \"Small screen usage\",\n",
    "    9: \"Large screen usage\",\n",
    "    10: \"Caffeinated drinks\",\n",
    "    11: \"Smoking\",\n",
    "    12: \"Alcohol consumption\"\n",
    "}"
   ]
  },
  {
   "cell_type": "code",
   "execution_count": 5,
   "metadata": {},
   "outputs": [],
   "source": [
    "# Convert 24:00 to 00:00 and handle the day change\n",
    "def fix_time(row):\n",
    "    if row['End'] == '24:00':\n",
    "        row['End'] = '00:00'\n",
    "        # Increment the day when time passes midnight\n",
    "        row['Day'] = row['Day'] + 1\n",
    "    return row"
   ]
  },
  {
   "cell_type": "code",
   "execution_count": 6,
   "metadata": {},
   "outputs": [
    {
     "data": {
      "text/html": [
       "<div>\n",
       "<style scoped>\n",
       "    .dataframe tbody tr th:only-of-type {\n",
       "        vertical-align: middle;\n",
       "    }\n",
       "\n",
       "    .dataframe tbody tr th {\n",
       "        vertical-align: top;\n",
       "    }\n",
       "\n",
       "    .dataframe thead th {\n",
       "        text-align: right;\n",
       "    }\n",
       "</style>\n",
       "<table border=\"1\" class=\"dataframe\">\n",
       "  <thead>\n",
       "    <tr style=\"text-align: right;\">\n",
       "      <th></th>\n",
       "      <th>Unnamed: 0</th>\n",
       "      <th>MEQ</th>\n",
       "      <th>STAI1</th>\n",
       "      <th>STAI2</th>\n",
       "      <th>Pittsburgh</th>\n",
       "      <th>Daily_stress</th>\n",
       "      <th>BISBAS_bis</th>\n",
       "      <th>BISBAS_reward</th>\n",
       "      <th>BISBAS_drive</th>\n",
       "      <th>BISBAS_fun</th>\n",
       "      <th>panas_pos_10</th>\n",
       "      <th>panas_pos_14</th>\n",
       "      <th>panas_pos_18</th>\n",
       "      <th>panas_pos_22</th>\n",
       "      <th>panas_pos_9+1</th>\n",
       "      <th>panas_neg_10</th>\n",
       "      <th>panas_neg_14</th>\n",
       "      <th>panas_neg_18</th>\n",
       "      <th>panas_neg_22</th>\n",
       "      <th>panas_neg_9+1</th>\n",
       "    </tr>\n",
       "  </thead>\n",
       "  <tbody>\n",
       "    <tr>\n",
       "      <th>0</th>\n",
       "      <td>0</td>\n",
       "      <td>47</td>\n",
       "      <td>41</td>\n",
       "      <td>43</td>\n",
       "      <td>5</td>\n",
       "      <td>23</td>\n",
       "      <td>22</td>\n",
       "      <td>21</td>\n",
       "      <td>14</td>\n",
       "      <td>14</td>\n",
       "      <td>21</td>\n",
       "      <td>17</td>\n",
       "      <td>12</td>\n",
       "      <td>18</td>\n",
       "      <td>17</td>\n",
       "      <td>11</td>\n",
       "      <td>13</td>\n",
       "      <td>13</td>\n",
       "      <td>10</td>\n",
       "      <td>10</td>\n",
       "    </tr>\n",
       "  </tbody>\n",
       "</table>\n",
       "</div>"
      ],
      "text/plain": [
       "   Unnamed: 0  MEQ  STAI1  STAI2  Pittsburgh  Daily_stress  BISBAS_bis  \\\n",
       "0           0   47     41     43           5            23          22   \n",
       "\n",
       "   BISBAS_reward  BISBAS_drive  BISBAS_fun  panas_pos_10  panas_pos_14  \\\n",
       "0             21            14          14            21            17   \n",
       "\n",
       "   panas_pos_18  panas_pos_22  panas_pos_9+1  panas_neg_10  panas_neg_14  \\\n",
       "0            12            18             17            11            13   \n",
       "\n",
       "   panas_neg_18  panas_neg_22  panas_neg_9+1  \n",
       "0            13            10             10  "
      ]
     },
     "execution_count": 6,
     "metadata": {},
     "output_type": "execute_result"
    }
   ],
   "source": [
    "## QUESTIONNAIRE\n",
    "user_folder = os.path.join(DATA_DIR, f\"user_{1}\")\n",
    "activity_file = os.path.join(user_folder, \"questionnaire.csv\")\n",
    "df_q = pd.read_csv(activity_file)\n",
    "df_q.head()"
   ]
  },
  {
   "cell_type": "code",
   "execution_count": 7,
   "metadata": {},
   "outputs": [
    {
     "data": {
      "text/html": [
       "<div>\n",
       "<style scoped>\n",
       "    .dataframe tbody tr th:only-of-type {\n",
       "        vertical-align: middle;\n",
       "    }\n",
       "\n",
       "    .dataframe tbody tr th {\n",
       "        vertical-align: top;\n",
       "    }\n",
       "\n",
       "    .dataframe thead th {\n",
       "        text-align: right;\n",
       "    }\n",
       "</style>\n",
       "<table border=\"1\" class=\"dataframe\">\n",
       "  <thead>\n",
       "    <tr style=\"text-align: right;\">\n",
       "      <th></th>\n",
       "      <th>Unnamed: 0</th>\n",
       "      <th>Axis1</th>\n",
       "      <th>Axis2</th>\n",
       "      <th>Axis3</th>\n",
       "      <th>Steps</th>\n",
       "      <th>HR</th>\n",
       "      <th>Inclinometer Off</th>\n",
       "      <th>Inclinometer Standing</th>\n",
       "      <th>Inclinometer Sitting</th>\n",
       "      <th>Inclinometer Lying</th>\n",
       "      <th>Vector Magnitude</th>\n",
       "      <th>day</th>\n",
       "      <th>time</th>\n",
       "    </tr>\n",
       "  </thead>\n",
       "  <tbody>\n",
       "    <tr>\n",
       "      <th>0</th>\n",
       "      <td>82</td>\n",
       "      <td>0</td>\n",
       "      <td>0</td>\n",
       "      <td>0</td>\n",
       "      <td>0</td>\n",
       "      <td>68.0</td>\n",
       "      <td>0</td>\n",
       "      <td>1</td>\n",
       "      <td>0</td>\n",
       "      <td>0</td>\n",
       "      <td>0.00</td>\n",
       "      <td>1</td>\n",
       "      <td>10:10:22</td>\n",
       "    </tr>\n",
       "    <tr>\n",
       "      <th>1</th>\n",
       "      <td>83</td>\n",
       "      <td>11</td>\n",
       "      <td>4</td>\n",
       "      <td>7</td>\n",
       "      <td>1</td>\n",
       "      <td>68.0</td>\n",
       "      <td>0</td>\n",
       "      <td>1</td>\n",
       "      <td>0</td>\n",
       "      <td>0</td>\n",
       "      <td>13.64</td>\n",
       "      <td>1</td>\n",
       "      <td>10:10:23</td>\n",
       "    </tr>\n",
       "    <tr>\n",
       "      <th>2</th>\n",
       "      <td>84</td>\n",
       "      <td>0</td>\n",
       "      <td>21</td>\n",
       "      <td>10</td>\n",
       "      <td>0</td>\n",
       "      <td>68.0</td>\n",
       "      <td>0</td>\n",
       "      <td>0</td>\n",
       "      <td>1</td>\n",
       "      <td>0</td>\n",
       "      <td>23.26</td>\n",
       "      <td>1</td>\n",
       "      <td>10:10:24</td>\n",
       "    </tr>\n",
       "    <tr>\n",
       "      <th>3</th>\n",
       "      <td>85</td>\n",
       "      <td>0</td>\n",
       "      <td>1</td>\n",
       "      <td>24</td>\n",
       "      <td>0</td>\n",
       "      <td>68.0</td>\n",
       "      <td>0</td>\n",
       "      <td>0</td>\n",
       "      <td>1</td>\n",
       "      <td>0</td>\n",
       "      <td>24.02</td>\n",
       "      <td>1</td>\n",
       "      <td>10:10:25</td>\n",
       "    </tr>\n",
       "    <tr>\n",
       "      <th>4</th>\n",
       "      <td>86</td>\n",
       "      <td>34</td>\n",
       "      <td>14</td>\n",
       "      <td>63</td>\n",
       "      <td>1</td>\n",
       "      <td>154.0</td>\n",
       "      <td>0</td>\n",
       "      <td>1</td>\n",
       "      <td>0</td>\n",
       "      <td>0</td>\n",
       "      <td>72.95</td>\n",
       "      <td>1</td>\n",
       "      <td>10:10:26</td>\n",
       "    </tr>\n",
       "  </tbody>\n",
       "</table>\n",
       "</div>"
      ],
      "text/plain": [
       "   Unnamed: 0  Axis1  Axis2  Axis3  Steps     HR  Inclinometer Off  \\\n",
       "0          82      0      0      0      0   68.0                 0   \n",
       "1          83     11      4      7      1   68.0                 0   \n",
       "2          84      0     21     10      0   68.0                 0   \n",
       "3          85      0      1     24      0   68.0                 0   \n",
       "4          86     34     14     63      1  154.0                 0   \n",
       "\n",
       "   Inclinometer Standing  Inclinometer Sitting  Inclinometer Lying  \\\n",
       "0                      1                     0                   0   \n",
       "1                      1                     0                   0   \n",
       "2                      0                     1                   0   \n",
       "3                      0                     1                   0   \n",
       "4                      1                     0                   0   \n",
       "\n",
       "   Vector Magnitude  day      time  \n",
       "0              0.00    1  10:10:22  \n",
       "1             13.64    1  10:10:23  \n",
       "2             23.26    1  10:10:24  \n",
       "3             24.02    1  10:10:25  \n",
       "4             72.95    1  10:10:26  "
      ]
     },
     "execution_count": 7,
     "metadata": {},
     "output_type": "execute_result"
    }
   ],
   "source": [
    "## ACTIGRAPH\n",
    "user_folder = os.path.join(DATA_DIR, f\"user_{1}\")\n",
    "activity_file = os.path.join(user_folder, \"Actigraph.csv\")\n",
    "df_q = pd.read_csv(activity_file)\n",
    "df_q.head()"
   ]
  },
  {
   "cell_type": "code",
   "execution_count": null,
   "metadata": {},
   "outputs": [
    {
     "data": {
      "text/html": [
       "<div>\n",
       "<style scoped>\n",
       "    .dataframe tbody tr th:only-of-type {\n",
       "        vertical-align: middle;\n",
       "    }\n",
       "\n",
       "    .dataframe tbody tr th {\n",
       "        vertical-align: top;\n",
       "    }\n",
       "\n",
       "    .dataframe thead th {\n",
       "        text-align: right;\n",
       "    }\n",
       "</style>\n",
       "<table border=\"1\" class=\"dataframe\">\n",
       "  <thead>\n",
       "    <tr style=\"text-align: right;\">\n",
       "      <th></th>\n",
       "      <th>Unnamed: 0</th>\n",
       "      <th>Activity</th>\n",
       "      <th>Start</th>\n",
       "      <th>End</th>\n",
       "      <th>Day</th>\n",
       "    </tr>\n",
       "  </thead>\n",
       "  <tbody>\n",
       "    <tr>\n",
       "      <th>0</th>\n",
       "      <td>0</td>\n",
       "      <td>2</td>\n",
       "      <td>10:00</td>\n",
       "      <td>10:22</td>\n",
       "      <td>1</td>\n",
       "    </tr>\n",
       "    <tr>\n",
       "      <th>1</th>\n",
       "      <td>1</td>\n",
       "      <td>9</td>\n",
       "      <td>10:37</td>\n",
       "      <td>10:40</td>\n",
       "      <td>1</td>\n",
       "    </tr>\n",
       "    <tr>\n",
       "      <th>2</th>\n",
       "      <td>2</td>\n",
       "      <td>10</td>\n",
       "      <td>10:40</td>\n",
       "      <td>10:45</td>\n",
       "      <td>1</td>\n",
       "    </tr>\n",
       "    <tr>\n",
       "      <th>3</th>\n",
       "      <td>3</td>\n",
       "      <td>6</td>\n",
       "      <td>10:55</td>\n",
       "      <td>11:00</td>\n",
       "      <td>1</td>\n",
       "    </tr>\n",
       "    <tr>\n",
       "      <th>4</th>\n",
       "      <td>4</td>\n",
       "      <td>2</td>\n",
       "      <td>11:00</td>\n",
       "      <td>11:20</td>\n",
       "      <td>1</td>\n",
       "    </tr>\n",
       "  </tbody>\n",
       "</table>\n",
       "</div>"
      ],
      "text/plain": [
       "   Unnamed: 0  Activity  Start    End  Day\n",
       "0           0         2  10:00  10:22    1\n",
       "1           1         9  10:37  10:40    1\n",
       "2           2        10  10:40  10:45    1\n",
       "3           3         6  10:55  11:00    1\n",
       "4           4         2  11:00  11:20    1"
      ]
     },
     "execution_count": 70,
     "metadata": {},
     "output_type": "execute_result"
    }
   ],
   "source": [
    "## ACTIVITY\n",
    "user_folder = os.path.join(DATA_DIR, f\"user_{1}\")\n",
    "activity_file = os.path.join(user_folder, \"Activity.csv\")\n",
    "df_q = pd.read_csv(activity_file)\n",
    "df_q.head()"
   ]
  },
  {
   "cell_type": "code",
   "execution_count": null,
   "metadata": {},
   "outputs": [
    {
     "data": {
      "text/html": [
       "<div>\n",
       "<style scoped>\n",
       "    .dataframe tbody tr th:only-of-type {\n",
       "        vertical-align: middle;\n",
       "    }\n",
       "\n",
       "    .dataframe tbody tr th {\n",
       "        vertical-align: top;\n",
       "    }\n",
       "\n",
       "    .dataframe thead th {\n",
       "        text-align: right;\n",
       "    }\n",
       "</style>\n",
       "<table border=\"1\" class=\"dataframe\">\n",
       "  <thead>\n",
       "    <tr style=\"text-align: right;\">\n",
       "      <th></th>\n",
       "      <th>Unnamed: 0</th>\n",
       "      <th>ibi_s</th>\n",
       "      <th>day</th>\n",
       "      <th>time</th>\n",
       "    </tr>\n",
       "  </thead>\n",
       "  <tbody>\n",
       "    <tr>\n",
       "      <th>0</th>\n",
       "      <td>1</td>\n",
       "      <td>0.258</td>\n",
       "      <td>1</td>\n",
       "      <td>10:10:17</td>\n",
       "    </tr>\n",
       "    <tr>\n",
       "      <th>1</th>\n",
       "      <td>2</td>\n",
       "      <td>0.319</td>\n",
       "      <td>1</td>\n",
       "      <td>10:10:18</td>\n",
       "    </tr>\n",
       "    <tr>\n",
       "      <th>2</th>\n",
       "      <td>3</td>\n",
       "      <td>0.266</td>\n",
       "      <td>1</td>\n",
       "      <td>10:10:18</td>\n",
       "    </tr>\n",
       "    <tr>\n",
       "      <th>3</th>\n",
       "      <td>4</td>\n",
       "      <td>0.401</td>\n",
       "      <td>1</td>\n",
       "      <td>10:10:18</td>\n",
       "    </tr>\n",
       "    <tr>\n",
       "      <th>4</th>\n",
       "      <td>5</td>\n",
       "      <td>1.089</td>\n",
       "      <td>1</td>\n",
       "      <td>10:10:19</td>\n",
       "    </tr>\n",
       "  </tbody>\n",
       "</table>\n",
       "</div>"
      ],
      "text/plain": [
       "   Unnamed: 0  ibi_s  day      time\n",
       "0           1  0.258    1  10:10:17\n",
       "1           2  0.319    1  10:10:18\n",
       "2           3  0.266    1  10:10:18\n",
       "3           4  0.401    1  10:10:18\n",
       "4           5  1.089    1  10:10:19"
      ]
     },
     "execution_count": 71,
     "metadata": {},
     "output_type": "execute_result"
    }
   ],
   "source": [
    "## RR\n",
    "user_folder = os.path.join(DATA_DIR, f\"user_{1}\")\n",
    "activity_file = os.path.join(user_folder, \"RR.csv\")\n",
    "df_q = pd.read_csv(activity_file)\n",
    "df_q.head()"
   ]
  },
  {
   "cell_type": "code",
   "execution_count": null,
   "metadata": {},
   "outputs": [
    {
     "data": {
      "text/html": [
       "<div>\n",
       "<style scoped>\n",
       "    .dataframe tbody tr th:only-of-type {\n",
       "        vertical-align: middle;\n",
       "    }\n",
       "\n",
       "    .dataframe tbody tr th {\n",
       "        vertical-align: top;\n",
       "    }\n",
       "\n",
       "    .dataframe thead th {\n",
       "        text-align: right;\n",
       "    }\n",
       "</style>\n",
       "<table border=\"1\" class=\"dataframe\">\n",
       "  <thead>\n",
       "    <tr style=\"text-align: right;\">\n",
       "      <th></th>\n",
       "      <th>Unnamed: 0</th>\n",
       "      <th>SAMPLES</th>\n",
       "      <th>Cortisol NORM</th>\n",
       "      <th>Melatonin NORM</th>\n",
       "    </tr>\n",
       "  </thead>\n",
       "  <tbody>\n",
       "    <tr>\n",
       "      <th>0</th>\n",
       "      <td>1</td>\n",
       "      <td>before sleep</td>\n",
       "      <td>0.034137</td>\n",
       "      <td>1.738385e-08</td>\n",
       "    </tr>\n",
       "    <tr>\n",
       "      <th>1</th>\n",
       "      <td>2</td>\n",
       "      <td>wake up</td>\n",
       "      <td>0.077939</td>\n",
       "      <td>6.747893e-09</td>\n",
       "    </tr>\n",
       "  </tbody>\n",
       "</table>\n",
       "</div>"
      ],
      "text/plain": [
       "   Unnamed: 0       SAMPLES  Cortisol NORM  Melatonin NORM\n",
       "0           1  before sleep       0.034137    1.738385e-08\n",
       "1           2       wake up       0.077939    6.747893e-09"
      ]
     },
     "execution_count": 72,
     "metadata": {},
     "output_type": "execute_result"
    }
   ],
   "source": [
    "## SALIVA\n",
    "user_folder = os.path.join(DATA_DIR, f\"user_{1}\")\n",
    "activity_file = os.path.join(user_folder, \"saliva.csv\")\n",
    "df_q = pd.read_csv(activity_file)\n",
    "df_q.head()"
   ]
  },
  {
   "cell_type": "code",
   "execution_count": null,
   "metadata": {},
   "outputs": [
    {
     "data": {
      "text/html": [
       "<div>\n",
       "<style scoped>\n",
       "    .dataframe tbody tr th:only-of-type {\n",
       "        vertical-align: middle;\n",
       "    }\n",
       "\n",
       "    .dataframe tbody tr th {\n",
       "        vertical-align: top;\n",
       "    }\n",
       "\n",
       "    .dataframe thead th {\n",
       "        text-align: right;\n",
       "    }\n",
       "</style>\n",
       "<table border=\"1\" class=\"dataframe\">\n",
       "  <thead>\n",
       "    <tr style=\"text-align: right;\">\n",
       "      <th></th>\n",
       "      <th>Unnamed: 0</th>\n",
       "      <th>In Bed Date</th>\n",
       "      <th>In Bed Time</th>\n",
       "      <th>Out Bed Date</th>\n",
       "      <th>Out Bed Time</th>\n",
       "      <th>Onset Date</th>\n",
       "      <th>Onset Time</th>\n",
       "      <th>Latency</th>\n",
       "      <th>Efficiency</th>\n",
       "      <th>Total Minutes in Bed</th>\n",
       "      <th>Total Sleep Time (TST)</th>\n",
       "      <th>Wake After Sleep Onset (WASO)</th>\n",
       "      <th>Number of Awakenings</th>\n",
       "      <th>Average Awakening Length</th>\n",
       "      <th>Movement Index</th>\n",
       "      <th>Fragmentation Index</th>\n",
       "      <th>Sleep Fragmentation Index</th>\n",
       "    </tr>\n",
       "  </thead>\n",
       "  <tbody>\n",
       "    <tr>\n",
       "      <th>0</th>\n",
       "      <td>0</td>\n",
       "      <td>2</td>\n",
       "      <td>00:46</td>\n",
       "      <td>2</td>\n",
       "      <td>03:31</td>\n",
       "      <td>2</td>\n",
       "      <td>00:46</td>\n",
       "      <td>0</td>\n",
       "      <td>87.27</td>\n",
       "      <td>165</td>\n",
       "      <td>144</td>\n",
       "      <td>21</td>\n",
       "      <td>9</td>\n",
       "      <td>2.33</td>\n",
       "      <td>9.091</td>\n",
       "      <td>10</td>\n",
       "      <td>19.091</td>\n",
       "    </tr>\n",
       "    <tr>\n",
       "      <th>1</th>\n",
       "      <td>1</td>\n",
       "      <td>2</td>\n",
       "      <td>03:57</td>\n",
       "      <td>2</td>\n",
       "      <td>07:30</td>\n",
       "      <td>2</td>\n",
       "      <td>03:57</td>\n",
       "      <td>0</td>\n",
       "      <td>92.02</td>\n",
       "      <td>213</td>\n",
       "      <td>196</td>\n",
       "      <td>17</td>\n",
       "      <td>9</td>\n",
       "      <td>1.89</td>\n",
       "      <td>8.920</td>\n",
       "      <td>0</td>\n",
       "      <td>8.920</td>\n",
       "    </tr>\n",
       "  </tbody>\n",
       "</table>\n",
       "</div>"
      ],
      "text/plain": [
       "   Unnamed: 0  In Bed Date In Bed Time  Out Bed Date Out Bed Time  Onset Date  \\\n",
       "0           0            2       00:46             2        03:31           2   \n",
       "1           1            2       03:57             2        07:30           2   \n",
       "\n",
       "  Onset Time  Latency  Efficiency  Total Minutes in Bed  \\\n",
       "0      00:46        0       87.27                   165   \n",
       "1      03:57        0       92.02                   213   \n",
       "\n",
       "   Total Sleep Time (TST)  Wake After Sleep Onset (WASO)  \\\n",
       "0                     144                             21   \n",
       "1                     196                             17   \n",
       "\n",
       "   Number of Awakenings  Average Awakening Length  Movement Index  \\\n",
       "0                     9                      2.33           9.091   \n",
       "1                     9                      1.89           8.920   \n",
       "\n",
       "   Fragmentation Index  Sleep Fragmentation Index  \n",
       "0                   10                     19.091  \n",
       "1                    0                      8.920  "
      ]
     },
     "execution_count": 73,
     "metadata": {},
     "output_type": "execute_result"
    }
   ],
   "source": [
    "## SLEEP\n",
    "user_folder = os.path.join(DATA_DIR, f\"user_{1}\")\n",
    "activity_file = os.path.join(user_folder, \"sleep.csv\")\n",
    "df_q = pd.read_csv(activity_file)\n",
    "df_q.head()"
   ]
  },
  {
   "cell_type": "code",
   "execution_count": null,
   "metadata": {},
   "outputs": [
    {
     "data": {
      "text/html": [
       "<div>\n",
       "<style scoped>\n",
       "    .dataframe tbody tr th:only-of-type {\n",
       "        vertical-align: middle;\n",
       "    }\n",
       "\n",
       "    .dataframe tbody tr th {\n",
       "        vertical-align: top;\n",
       "    }\n",
       "\n",
       "    .dataframe thead th {\n",
       "        text-align: right;\n",
       "    }\n",
       "</style>\n",
       "<table border=\"1\" class=\"dataframe\">\n",
       "  <thead>\n",
       "    <tr style=\"text-align: right;\">\n",
       "      <th></th>\n",
       "      <th>Unnamed: 0</th>\n",
       "      <th>Gender</th>\n",
       "      <th>Weight</th>\n",
       "      <th>Height</th>\n",
       "      <th>Age</th>\n",
       "    </tr>\n",
       "  </thead>\n",
       "  <tbody>\n",
       "    <tr>\n",
       "      <th>0</th>\n",
       "      <td>0</td>\n",
       "      <td>M</td>\n",
       "      <td>65</td>\n",
       "      <td>169</td>\n",
       "      <td>29</td>\n",
       "    </tr>\n",
       "  </tbody>\n",
       "</table>\n",
       "</div>"
      ],
      "text/plain": [
       "   Unnamed: 0 Gender  Weight  Height  Age\n",
       "0           0      M      65     169   29"
      ]
     },
     "execution_count": 74,
     "metadata": {},
     "output_type": "execute_result"
    }
   ],
   "source": [
    "## USER INFO\n",
    "user_folder = os.path.join(DATA_DIR, f\"user_{1}\")\n",
    "activity_file = os.path.join(user_folder, \"user_info.csv\")\n",
    "df_q = pd.read_csv(activity_file)\n",
    "df_q.head()"
   ]
  },
  {
   "cell_type": "code",
   "execution_count": null,
   "metadata": {},
   "outputs": [],
   "source": []
  },
  {
   "cell_type": "code",
   "execution_count": 42,
   "metadata": {},
   "outputs": [
    {
     "name": "stdout",
     "output_type": "stream",
     "text": [
      "   Unnamed: 0  Activity               Start                 End  Day\n",
      "0           0         2 2025-03-26 10:00:00 2025-03-26 10:22:00    1\n",
      "1           1         9 2025-03-26 10:37:00 2025-03-26 10:40:00    1\n",
      "2           2        10 2025-03-26 10:40:00 2025-03-26 10:45:00    1\n",
      "3           3         6 2025-03-26 10:55:00 2025-03-26 11:00:00    1\n",
      "4           4         2 2025-03-26 11:00:00 2025-03-26 11:20:00    1\n",
      "   Unnamed: 0  Activity               Start                 End  Day\n",
      "0           0         2 2025-03-26 10:00:00 2025-03-26 10:20:00    1\n",
      "1           1         6 2025-03-26 13:05:00 2025-03-26 13:25:00    1\n",
      "2           2         6 2025-03-26 13:38:00 2025-03-26 13:40:00    1\n",
      "3           3         9 2025-03-26 13:38:00 2025-03-26 13:40:00    1\n",
      "4           4         2 2025-03-26 13:55:00 2025-03-26 14:00:00    1\n",
      "   Unnamed: 0  Activity               Start                 End  Day\n",
      "0           0         7 2025-03-26 09:50:00 2025-03-26 10:15:00    1\n",
      "1           1         9 2025-03-26 10:00:00 2025-03-26 10:10:00    1\n",
      "2           2         3 2025-03-26 10:30:00 2025-03-26 13:30:00    1\n",
      "3           3         6 2025-03-26 13:30:00 2025-03-26 13:50:00    1\n",
      "4           4         9 2025-03-26 14:10:00 2025-03-26 14:15:00    1\n",
      "   Unnamed: 0  Activity               Start                 End  Day\n",
      "0           0         2 2025-03-26 12:00:00 2025-03-26 12:50:00    1\n",
      "1           1         7 2025-03-26 12:00:00 2025-03-26 12:50:00    1\n",
      "2           2         2 2025-03-26 15:50:00 2025-03-26 17:20:00    1\n",
      "3           3         7 2025-03-26 15:50:00 2025-03-26 17:20:00    1\n",
      "4           4         2 2025-03-26 18:50:00 2025-03-26 19:00:00    1\n",
      "   Unnamed: 0  Activity               Start                 End  Day\n",
      "0           0         3 2025-03-26 09:50:00 2025-03-26 10:00:00    1\n",
      "1           1         3 2025-03-26 10:20:00 2025-03-26 11:00:00    1\n",
      "2           2         2 2025-03-26 11:00:00 2025-03-26 13:00:00    1\n",
      "3           3         7 2025-03-26 11:00:00 2025-03-26 12:30:00    1\n",
      "4           4         0 2025-03-26 14:15:00 2025-03-26 15:00:00    1\n",
      "   Unnamed: 0  Activity               Start                 End  Day\n",
      "0           0         3 2025-03-26 10:39:00 2025-03-26 10:46:00    1\n",
      "1           1         2 2025-03-26 10:46:00 2025-03-26 11:04:00    1\n",
      "2           2         7 2025-03-26 11:10:00 2025-03-26 12:48:00    1\n",
      "3           3         5 2025-03-26 12:48:00 2025-03-26 13:03:00    1\n",
      "4           4         3 2025-03-26 13:03:00 2025-03-26 13:35:00    1\n",
      "   Unnamed: 0  Activity               Start                 End  Day\n",
      "0           0         3 2025-03-26 10:00:00 2025-03-26 10:30:00    1\n",
      "1           1         2 2025-03-26 10:30:00 2025-03-26 13:00:00    1\n",
      "2           2         6 2025-03-26 13:00:00 2025-03-26 14:30:00    1\n",
      "3           3         3 2025-03-26 14:30:00 2025-03-26 18:30:00    1\n",
      "4           4         3 2025-03-26 18:30:00 2025-03-26 20:00:00    1\n",
      "   Unnamed: 0  Activity               Start                 End  Day\n",
      "0           0         2 2025-03-26 12:10:00 2025-03-27 10:35:00    1\n",
      "1           1         3 2025-03-26 10:50:00 2025-03-26 11:00:00    1\n",
      "2           2         2 2025-03-26 11:00:00 2025-03-26 12:05:00    1\n",
      "3           3         3 2025-03-26 12:05:00 2025-03-26 12:40:00    1\n",
      "4           4         2 2025-03-26 12:45:00 2025-03-26 13:35:00    1\n",
      "   Unnamed: 0  Activity               Start                 End  Day\n",
      "0           0         7 2025-03-26 11:00:00 2025-03-26 13:30:00    1\n",
      "1           1         6 2025-03-26 13:30:00 2025-03-26 14:30:00    1\n",
      "2           2         0 2025-03-26 14:30:00 2025-03-26 15:30:00    1\n",
      "3           3         7 2025-03-26 15:30:00 2025-03-26 19:00:00    1\n",
      "4           4         5 2025-03-26 19:00:00 2025-03-26 19:30:00    1\n",
      "   Unnamed: 0  Activity               Start                 End  Day\n",
      "0           0         4 2025-03-26 10:00:00 2025-03-26 10:30:00    1\n",
      "1           1         2 2025-03-26 10:30:00 2025-03-26 11:30:00    1\n",
      "2           2         4 2025-03-26 11:30:00 2025-03-26 11:40:00    1\n",
      "3           3         7 2025-03-26 11:40:00 2025-03-26 12:45:00    1\n",
      "4           4         0 2025-03-26 12:45:00 2025-03-26 13:15:00    1\n",
      "   Unnamed: 0  Activity               Start                 End  Day\n",
      "0           0         3 2025-03-26 10:20:00 2025-03-26 10:25:00    1\n",
      "1           1         2 2025-03-26 10:25:00 2025-03-26 10:30:00    1\n",
      "2           2         6 2025-03-26 10:30:00 2025-03-26 10:35:00    1\n",
      "3           3         2 2025-03-26 10:45:00 2025-03-26 11:00:00    1\n",
      "4           4         3 2025-03-26 11:00:00 2025-03-26 13:25:00    1\n",
      "   Unnamed: 0  Activity               Start                 End  Day\n",
      "0           0         3 2025-03-26 10:00:00 2025-03-26 10:20:00    1\n",
      "1           1         7 2025-03-26 11:05:00 2025-03-26 11:30:00    1\n",
      "2           2         8 2025-03-26 11:30:00 2025-03-26 12:10:00    1\n",
      "3           3         3 2025-03-26 12:10:00 2025-03-26 12:35:00    1\n",
      "4           4         8 2025-03-26 12:35:00 2025-03-26 13:05:00    1\n",
      "   Unnamed: 0  Activity               Start                 End  Day\n",
      "0           0         3 2025-03-26 10:00:00 2025-03-26 13:00:00    1\n",
      "1           1         6 2025-03-26 13:00:00 2025-03-26 14:30:00    1\n",
      "2           2         3 2025-03-26 14:30:00 2025-03-26 18:30:00    1\n",
      "3           3         2 2025-03-26 19:00:00 2025-03-26 20:00:00    1\n",
      "4           4         6 2025-03-26 20:00:00 2025-03-26 21:00:00    1\n",
      "   Unnamed: 0  Activity               Start                 End  Day\n",
      "0           0         3 2025-03-26 10:16:00 2025-03-26 10:19:00    1\n",
      "1           1         3 2025-03-26 10:47:00 2025-03-26 10:58:00    1\n",
      "2           2         7 2025-03-26 10:16:00 2025-03-26 10:58:00    1\n",
      "3           3         2 2025-03-26 11:10:00 2025-03-26 12:55:00    1\n",
      "4           4         7 2025-03-26 11:15:00 2025-03-26 12:50:00    1\n",
      "   Unnamed: 0  Activity               Start                 End  Day\n",
      "0           0         3 2025-03-26 10:00:00 2025-03-26 13:00:00    1\n",
      "1           1         3 2025-03-26 15:00:00 2025-03-26 18:00:00    1\n",
      "2           2         5 2025-03-26 19:00:00 2025-03-26 21:00:00    1\n",
      "3           3         0 2025-03-26 22:30:00 2025-03-27 07:30:00    1\n",
      "4           4         6 2025-03-26 07:30:00 2025-03-26 07:40:00    1\n",
      "   Unnamed: 0  Activity               Start                 End  Day\n",
      "0           0         3 2025-03-26 10:05:00 2025-03-26 10:20:00    1\n",
      "1           1         6 2025-03-26 10:20:00 2025-03-26 10:30:00    1\n",
      "2           2         2 2025-03-26 11:10:00 2025-03-26 13:50:00    1\n",
      "3           3         3 2025-03-26 10:50:00 2025-03-26 11:10:00    1\n",
      "4           4         6 2025-03-26 13:50:00 2025-03-26 14:10:00    1\n",
      "   Unnamed: 0  Activity               Start                 End  Day\n",
      "0           0         3 2025-03-26 10:15:00 2025-03-26 12:40:00    1\n",
      "1           1         6 2025-03-26 13:20:00 2025-03-26 14:00:00    1\n",
      "2           2         3 2025-03-26 15:00:00 2025-03-26 18:06:00    1\n",
      "3           3         3 2025-03-26 18:06:00 2025-03-26 18:25:00    1\n",
      "4           4         2 2025-03-26 18:34:00 2025-03-26 18:35:00    1\n",
      "   Unnamed: 0  Activity               Start                 End  Day\n",
      "0           0         2 2025-03-26 10:10:00 2025-03-26 10:30:00    1\n",
      "1           1         7 2025-03-26 10:30:00 2025-03-26 13:15:00    1\n",
      "2           2         6 2025-03-26 13:15:00 2025-03-26 13:30:00    1\n",
      "3           3         7 2025-03-26 13:30:00 2025-03-26 13:50:00    1\n",
      "4           4         0 2025-03-26 13:50:00 2025-03-26 15:15:00    1\n",
      "   Unnamed: 0  Activity               Start                 End  Day\n",
      "0           0         3 2025-03-26 10:00:00 2025-03-26 13:00:00    1\n",
      "1           1         6 2025-03-26 13:00:00 2025-03-26 13:40:00    1\n",
      "2           2         2 2025-03-26 13:40:00 2025-03-26 14:30:00    1\n",
      "3           3         3 2025-03-26 14:30:00 2025-03-26 15:00:00    1\n",
      "4           4         2 2025-03-26 15:00:00 2025-03-26 15:10:00    1\n",
      "   Unnamed: 0  Activity               Start                 End  Day\n",
      "0           0         5 2025-03-26 10:30:00 2025-03-26 10:45:00    1\n",
      "1           1         7 2025-03-26 15:00:00 2025-03-26 17:30:00    1\n",
      "2           2         7 2025-03-26 19:00:00 2025-03-26 20:00:00    1\n",
      "3           3         8 2025-03-26 21:30:00 2025-03-26 23:30:00    1\n",
      "4           4         0 2025-03-26 00:45:00 2025-03-26 07:40:00    2\n",
      "   Unnamed: 0  Activity               Start                 End  Day\n",
      "0           0         6 2025-03-26 10:20:00 2025-03-26 10:35:00    1\n",
      "1           1         2 2025-03-26 00:35:00 2025-03-26 13:35:00    1\n",
      "2           2         6 2025-03-26 13:50:00 2025-03-26 14:10:00    1\n",
      "3           3         0 2025-03-26 14:35:00 2025-03-26 15:05:00    1\n",
      "4           4         2 2025-03-26 15:20:00 2025-03-26 19:00:00    1\n",
      "   Unnamed: 0  Activity               Start                 End  Day\n",
      "0           0         3 2025-03-26 08:50:00 2025-03-26 14:40:00    1\n",
      "1           1         6 2025-03-26 15:30:00 2025-03-26 16:00:00    1\n",
      "2           2         7 2025-03-26 16:00:00 2025-03-26 18:00:00    1\n",
      "3           3         3 2025-03-26 18:00:00 2025-03-26 18:20:00    1\n",
      "4           4         3 2025-03-26 19:50:00 2025-03-26 20:10:00    1\n"
     ]
    },
    {
     "name": "stderr",
     "output_type": "stream",
     "text": [
      "C:\\Users\\atrey\\AppData\\Local\\Temp\\ipykernel_33092\\2558387678.py:17: UserWarning: Could not infer format, so each element will be parsed individually, falling back to `dateutil`. To ensure parsing is consistent and as-expected, please specify a format.\n",
      "  df_activity['Start'] = pd.to_datetime(df_activity['Start'], errors='coerce')\n",
      "C:\\Users\\atrey\\AppData\\Local\\Temp\\ipykernel_33092\\2558387678.py:18: UserWarning: Could not infer format, so each element will be parsed individually, falling back to `dateutil`. To ensure parsing is consistent and as-expected, please specify a format.\n",
      "  df_activity['End'] = pd.to_datetime(df_activity['End'], errors='coerce')\n",
      "C:\\Users\\atrey\\AppData\\Local\\Temp\\ipykernel_33092\\2558387678.py:17: UserWarning: Could not infer format, so each element will be parsed individually, falling back to `dateutil`. To ensure parsing is consistent and as-expected, please specify a format.\n",
      "  df_activity['Start'] = pd.to_datetime(df_activity['Start'], errors='coerce')\n",
      "C:\\Users\\atrey\\AppData\\Local\\Temp\\ipykernel_33092\\2558387678.py:18: UserWarning: Could not infer format, so each element will be parsed individually, falling back to `dateutil`. To ensure parsing is consistent and as-expected, please specify a format.\n",
      "  df_activity['End'] = pd.to_datetime(df_activity['End'], errors='coerce')\n",
      "C:\\Users\\atrey\\AppData\\Local\\Temp\\ipykernel_33092\\2558387678.py:17: UserWarning: Could not infer format, so each element will be parsed individually, falling back to `dateutil`. To ensure parsing is consistent and as-expected, please specify a format.\n",
      "  df_activity['Start'] = pd.to_datetime(df_activity['Start'], errors='coerce')\n",
      "C:\\Users\\atrey\\AppData\\Local\\Temp\\ipykernel_33092\\2558387678.py:18: UserWarning: Could not infer format, so each element will be parsed individually, falling back to `dateutil`. To ensure parsing is consistent and as-expected, please specify a format.\n",
      "  df_activity['End'] = pd.to_datetime(df_activity['End'], errors='coerce')\n",
      "C:\\Users\\atrey\\AppData\\Local\\Temp\\ipykernel_33092\\2558387678.py:17: UserWarning: Could not infer format, so each element will be parsed individually, falling back to `dateutil`. To ensure parsing is consistent and as-expected, please specify a format.\n",
      "  df_activity['Start'] = pd.to_datetime(df_activity['Start'], errors='coerce')\n",
      "C:\\Users\\atrey\\AppData\\Local\\Temp\\ipykernel_33092\\2558387678.py:18: UserWarning: Could not infer format, so each element will be parsed individually, falling back to `dateutil`. To ensure parsing is consistent and as-expected, please specify a format.\n",
      "  df_activity['End'] = pd.to_datetime(df_activity['End'], errors='coerce')\n",
      "C:\\Users\\atrey\\AppData\\Local\\Temp\\ipykernel_33092\\2558387678.py:17: UserWarning: Could not infer format, so each element will be parsed individually, falling back to `dateutil`. To ensure parsing is consistent and as-expected, please specify a format.\n",
      "  df_activity['Start'] = pd.to_datetime(df_activity['Start'], errors='coerce')\n",
      "C:\\Users\\atrey\\AppData\\Local\\Temp\\ipykernel_33092\\2558387678.py:18: UserWarning: Could not infer format, so each element will be parsed individually, falling back to `dateutil`. To ensure parsing is consistent and as-expected, please specify a format.\n",
      "  df_activity['End'] = pd.to_datetime(df_activity['End'], errors='coerce')\n",
      "C:\\Users\\atrey\\AppData\\Local\\Temp\\ipykernel_33092\\2558387678.py:17: UserWarning: Could not infer format, so each element will be parsed individually, falling back to `dateutil`. To ensure parsing is consistent and as-expected, please specify a format.\n",
      "  df_activity['Start'] = pd.to_datetime(df_activity['Start'], errors='coerce')\n",
      "C:\\Users\\atrey\\AppData\\Local\\Temp\\ipykernel_33092\\2558387678.py:18: UserWarning: Could not infer format, so each element will be parsed individually, falling back to `dateutil`. To ensure parsing is consistent and as-expected, please specify a format.\n",
      "  df_activity['End'] = pd.to_datetime(df_activity['End'], errors='coerce')\n",
      "C:\\Users\\atrey\\AppData\\Local\\Temp\\ipykernel_33092\\2558387678.py:17: UserWarning: Could not infer format, so each element will be parsed individually, falling back to `dateutil`. To ensure parsing is consistent and as-expected, please specify a format.\n",
      "  df_activity['Start'] = pd.to_datetime(df_activity['Start'], errors='coerce')\n",
      "C:\\Users\\atrey\\AppData\\Local\\Temp\\ipykernel_33092\\2558387678.py:18: UserWarning: Could not infer format, so each element will be parsed individually, falling back to `dateutil`. To ensure parsing is consistent and as-expected, please specify a format.\n",
      "  df_activity['End'] = pd.to_datetime(df_activity['End'], errors='coerce')\n",
      "C:\\Users\\atrey\\AppData\\Local\\Temp\\ipykernel_33092\\2558387678.py:17: UserWarning: Could not infer format, so each element will be parsed individually, falling back to `dateutil`. To ensure parsing is consistent and as-expected, please specify a format.\n",
      "  df_activity['Start'] = pd.to_datetime(df_activity['Start'], errors='coerce')\n",
      "C:\\Users\\atrey\\AppData\\Local\\Temp\\ipykernel_33092\\2558387678.py:18: UserWarning: Could not infer format, so each element will be parsed individually, falling back to `dateutil`. To ensure parsing is consistent and as-expected, please specify a format.\n",
      "  df_activity['End'] = pd.to_datetime(df_activity['End'], errors='coerce')\n",
      "C:\\Users\\atrey\\AppData\\Local\\Temp\\ipykernel_33092\\2558387678.py:17: UserWarning: Could not infer format, so each element will be parsed individually, falling back to `dateutil`. To ensure parsing is consistent and as-expected, please specify a format.\n",
      "  df_activity['Start'] = pd.to_datetime(df_activity['Start'], errors='coerce')\n",
      "C:\\Users\\atrey\\AppData\\Local\\Temp\\ipykernel_33092\\2558387678.py:18: UserWarning: Could not infer format, so each element will be parsed individually, falling back to `dateutil`. To ensure parsing is consistent and as-expected, please specify a format.\n",
      "  df_activity['End'] = pd.to_datetime(df_activity['End'], errors='coerce')\n",
      "C:\\Users\\atrey\\AppData\\Local\\Temp\\ipykernel_33092\\2558387678.py:17: UserWarning: Could not infer format, so each element will be parsed individually, falling back to `dateutil`. To ensure parsing is consistent and as-expected, please specify a format.\n",
      "  df_activity['Start'] = pd.to_datetime(df_activity['Start'], errors='coerce')\n",
      "C:\\Users\\atrey\\AppData\\Local\\Temp\\ipykernel_33092\\2558387678.py:18: UserWarning: Could not infer format, so each element will be parsed individually, falling back to `dateutil`. To ensure parsing is consistent and as-expected, please specify a format.\n",
      "  df_activity['End'] = pd.to_datetime(df_activity['End'], errors='coerce')\n",
      "C:\\Users\\atrey\\AppData\\Local\\Temp\\ipykernel_33092\\2558387678.py:17: UserWarning: Could not infer format, so each element will be parsed individually, falling back to `dateutil`. To ensure parsing is consistent and as-expected, please specify a format.\n",
      "  df_activity['Start'] = pd.to_datetime(df_activity['Start'], errors='coerce')\n",
      "C:\\Users\\atrey\\AppData\\Local\\Temp\\ipykernel_33092\\2558387678.py:18: UserWarning: Could not infer format, so each element will be parsed individually, falling back to `dateutil`. To ensure parsing is consistent and as-expected, please specify a format.\n",
      "  df_activity['End'] = pd.to_datetime(df_activity['End'], errors='coerce')\n",
      "C:\\Users\\atrey\\AppData\\Local\\Temp\\ipykernel_33092\\2558387678.py:17: UserWarning: Could not infer format, so each element will be parsed individually, falling back to `dateutil`. To ensure parsing is consistent and as-expected, please specify a format.\n",
      "  df_activity['Start'] = pd.to_datetime(df_activity['Start'], errors='coerce')\n",
      "C:\\Users\\atrey\\AppData\\Local\\Temp\\ipykernel_33092\\2558387678.py:18: UserWarning: Could not infer format, so each element will be parsed individually, falling back to `dateutil`. To ensure parsing is consistent and as-expected, please specify a format.\n",
      "  df_activity['End'] = pd.to_datetime(df_activity['End'], errors='coerce')\n",
      "C:\\Users\\atrey\\AppData\\Local\\Temp\\ipykernel_33092\\2558387678.py:17: UserWarning: Could not infer format, so each element will be parsed individually, falling back to `dateutil`. To ensure parsing is consistent and as-expected, please specify a format.\n",
      "  df_activity['Start'] = pd.to_datetime(df_activity['Start'], errors='coerce')\n",
      "C:\\Users\\atrey\\AppData\\Local\\Temp\\ipykernel_33092\\2558387678.py:18: UserWarning: Could not infer format, so each element will be parsed individually, falling back to `dateutil`. To ensure parsing is consistent and as-expected, please specify a format.\n",
      "  df_activity['End'] = pd.to_datetime(df_activity['End'], errors='coerce')\n",
      "C:\\Users\\atrey\\AppData\\Local\\Temp\\ipykernel_33092\\2558387678.py:17: UserWarning: Could not infer format, so each element will be parsed individually, falling back to `dateutil`. To ensure parsing is consistent and as-expected, please specify a format.\n",
      "  df_activity['Start'] = pd.to_datetime(df_activity['Start'], errors='coerce')\n",
      "C:\\Users\\atrey\\AppData\\Local\\Temp\\ipykernel_33092\\2558387678.py:18: UserWarning: Could not infer format, so each element will be parsed individually, falling back to `dateutil`. To ensure parsing is consistent and as-expected, please specify a format.\n",
      "  df_activity['End'] = pd.to_datetime(df_activity['End'], errors='coerce')\n",
      "C:\\Users\\atrey\\AppData\\Local\\Temp\\ipykernel_33092\\2558387678.py:17: UserWarning: Could not infer format, so each element will be parsed individually, falling back to `dateutil`. To ensure parsing is consistent and as-expected, please specify a format.\n",
      "  df_activity['Start'] = pd.to_datetime(df_activity['Start'], errors='coerce')\n",
      "C:\\Users\\atrey\\AppData\\Local\\Temp\\ipykernel_33092\\2558387678.py:18: UserWarning: Could not infer format, so each element will be parsed individually, falling back to `dateutil`. To ensure parsing is consistent and as-expected, please specify a format.\n",
      "  df_activity['End'] = pd.to_datetime(df_activity['End'], errors='coerce')\n",
      "C:\\Users\\atrey\\AppData\\Local\\Temp\\ipykernel_33092\\2558387678.py:17: UserWarning: Could not infer format, so each element will be parsed individually, falling back to `dateutil`. To ensure parsing is consistent and as-expected, please specify a format.\n",
      "  df_activity['Start'] = pd.to_datetime(df_activity['Start'], errors='coerce')\n",
      "C:\\Users\\atrey\\AppData\\Local\\Temp\\ipykernel_33092\\2558387678.py:18: UserWarning: Could not infer format, so each element will be parsed individually, falling back to `dateutil`. To ensure parsing is consistent and as-expected, please specify a format.\n",
      "  df_activity['End'] = pd.to_datetime(df_activity['End'], errors='coerce')\n",
      "C:\\Users\\atrey\\AppData\\Local\\Temp\\ipykernel_33092\\2558387678.py:17: UserWarning: Could not infer format, so each element will be parsed individually, falling back to `dateutil`. To ensure parsing is consistent and as-expected, please specify a format.\n",
      "  df_activity['Start'] = pd.to_datetime(df_activity['Start'], errors='coerce')\n",
      "C:\\Users\\atrey\\AppData\\Local\\Temp\\ipykernel_33092\\2558387678.py:18: UserWarning: Could not infer format, so each element will be parsed individually, falling back to `dateutil`. To ensure parsing is consistent and as-expected, please specify a format.\n",
      "  df_activity['End'] = pd.to_datetime(df_activity['End'], errors='coerce')\n",
      "C:\\Users\\atrey\\AppData\\Local\\Temp\\ipykernel_33092\\2558387678.py:17: UserWarning: Could not infer format, so each element will be parsed individually, falling back to `dateutil`. To ensure parsing is consistent and as-expected, please specify a format.\n",
      "  df_activity['Start'] = pd.to_datetime(df_activity['Start'], errors='coerce')\n",
      "C:\\Users\\atrey\\AppData\\Local\\Temp\\ipykernel_33092\\2558387678.py:18: UserWarning: Could not infer format, so each element will be parsed individually, falling back to `dateutil`. To ensure parsing is consistent and as-expected, please specify a format.\n",
      "  df_activity['End'] = pd.to_datetime(df_activity['End'], errors='coerce')\n",
      "C:\\Users\\atrey\\AppData\\Local\\Temp\\ipykernel_33092\\2558387678.py:17: UserWarning: Could not infer format, so each element will be parsed individually, falling back to `dateutil`. To ensure parsing is consistent and as-expected, please specify a format.\n",
      "  df_activity['Start'] = pd.to_datetime(df_activity['Start'], errors='coerce')\n",
      "C:\\Users\\atrey\\AppData\\Local\\Temp\\ipykernel_33092\\2558387678.py:18: UserWarning: Could not infer format, so each element will be parsed individually, falling back to `dateutil`. To ensure parsing is consistent and as-expected, please specify a format.\n",
      "  df_activity['End'] = pd.to_datetime(df_activity['End'], errors='coerce')\n",
      "C:\\Users\\atrey\\AppData\\Local\\Temp\\ipykernel_33092\\2558387678.py:17: UserWarning: Could not infer format, so each element will be parsed individually, falling back to `dateutil`. To ensure parsing is consistent and as-expected, please specify a format.\n",
      "  df_activity['Start'] = pd.to_datetime(df_activity['Start'], errors='coerce')\n",
      "C:\\Users\\atrey\\AppData\\Local\\Temp\\ipykernel_33092\\2558387678.py:18: UserWarning: Could not infer format, so each element will be parsed individually, falling back to `dateutil`. To ensure parsing is consistent and as-expected, please specify a format.\n",
      "  df_activity['End'] = pd.to_datetime(df_activity['End'], errors='coerce')\n",
      "C:\\Users\\atrey\\AppData\\Local\\Temp\\ipykernel_33092\\2558387678.py:17: UserWarning: Could not infer format, so each element will be parsed individually, falling back to `dateutil`. To ensure parsing is consistent and as-expected, please specify a format.\n",
      "  df_activity['Start'] = pd.to_datetime(df_activity['Start'], errors='coerce')\n",
      "C:\\Users\\atrey\\AppData\\Local\\Temp\\ipykernel_33092\\2558387678.py:18: UserWarning: Could not infer format, so each element will be parsed individually, falling back to `dateutil`. To ensure parsing is consistent and as-expected, please specify a format.\n",
      "  df_activity['End'] = pd.to_datetime(df_activity['End'], errors='coerce')\n",
      "C:\\Users\\atrey\\AppData\\Local\\Temp\\ipykernel_33092\\2558387678.py:17: UserWarning: Could not infer format, so each element will be parsed individually, falling back to `dateutil`. To ensure parsing is consistent and as-expected, please specify a format.\n",
      "  df_activity['Start'] = pd.to_datetime(df_activity['Start'], errors='coerce')\n",
      "C:\\Users\\atrey\\AppData\\Local\\Temp\\ipykernel_33092\\2558387678.py:18: UserWarning: Could not infer format, so each element will be parsed individually, falling back to `dateutil`. To ensure parsing is consistent and as-expected, please specify a format.\n",
      "  df_activity['End'] = pd.to_datetime(df_activity['End'], errors='coerce')\n"
     ]
    }
   ],
   "source": [
    "# Loop over all user folders\n",
    "for user_id in range(1, 23):\n",
    "    user_folder = os.path.join(DATA_DIR, f\"user_{user_id}\")\n",
    "    activity_file = os.path.join(user_folder, \"Activity.csv\")\n",
    "    \n",
    "    if os.path.exists(activity_file):\n",
    "        df_activity = pd.read_csv(activity_file)\n",
    "        #df_activity = df_activity.apply(fix_time, axis=1)\n",
    "        \n",
    "        # Ensure 'Start' and 'End' are parsed as datetime\n",
    "        # Adjust if your columns are named differently (e.g., 'start', 'end')\n",
    "        #df_activity['Start'] = pd.to_datetime(df_activity['Start'])\n",
    "        #df_activity['End']   = pd.to_datetime(df_activity['End'])\n",
    "        \n",
    "        df_activity['Start'] = df_activity['Start'].str.replace('24:00', '00:00')\n",
    "        df_activity['End'] = df_activity['End'].str.replace('24:00', '00:00')\n",
    "        df_activity['Start'] = pd.to_datetime(df_activity['Start'], errors='coerce')\n",
    "        df_activity['End'] = pd.to_datetime(df_activity['End'], errors='coerce')\n",
    "\n",
    "        # Fix cases where 'End' time was '24:00' by adding a day to the date\n",
    "        df_activity.loc[df_activity['Start'] > df_activity['End'], 'End'] += pd.Timedelta(days=1)\n",
    "\n",
    "        print(df_activity.head())\n",
    "\n",
    "        # Calculate duration (in minutes) for each row\n",
    "        # Adjust the column name for the activity code if needed (e.g., 'category' vs 'Activity')\n",
    "        for idx, row in df_activity.iterrows():\n",
    "            cat_code = row['Activity']  # e.g. numeric category ID (1..12)\n",
    "            \n",
    "            if cat_code not in activity_labels:\n",
    "                continue  # Skip unknown activities\n",
    "            \n",
    "            start_t  = row['Start']\n",
    "            end_t    = row['End']\n",
    "            \n",
    "            if pd.notnull(start_t) and pd.notnull(end_t) and pd.notnull(cat_code):\n",
    "                duration_min = (end_t - start_t).total_seconds() / 60.0\n",
    "                \n",
    "                # Accumulate into the dictionary\n",
    "                # If cat_code doesn't exist yet, initialize at 0\n",
    "                if cat_code not in activity_durations:\n",
    "                    activity_durations[cat_code] = 0\n",
    "                activity_durations[cat_code] += duration_min\n",
    "    else:\n",
    "        print(f\"Warning: {activity_file} not found for user_{user_id}\")"
   ]
  },
  {
   "cell_type": "code",
   "execution_count": 50,
   "metadata": {},
   "outputs": [
    {
     "data": {
      "image/png": "[encoded data removed]",
      "text/plain": [
       "<Figure size 1000x1000 with 1 Axes>"
      ]
     },
     "metadata": {},
     "output_type": "display_data"
    }
   ],
   "source": [
    "plt.figure(figsize=(10, 10))\n",
    "plt.pie(\n",
    "    durations, \n",
    "    # Remove labels parameter\n",
    "    autopct=lambda p: f'{p:.1f}%' if p > 3 else '',  # Only show percentages for larger slices\n",
    "    startangle=140,\n",
    "    wedgeprops={'edgecolor': 'white', 'linewidth': 1}\n",
    ")\n",
    "\n",
    "# Add a legend outside the pie chart\n",
    "plt.legend(labels, loc='center left', bbox_to_anchor=(1, 0.5), fontsize=12)\n",
    "\n",
    "plt.title(\"Percentage of Activity Durations (All Participants)\")\n",
    "plt.axis('equal')  # Equal aspect ratio ensures pie is drawn as a circle.\n",
    "#plt.tight_layout()\n",
    "plt.show()\n"
   ]
  },
  {
   "cell_type": "code",
   "execution_count": 52,
   "metadata": {},
   "outputs": [
    {
     "data": {
      "image/png": "[encoded data removed]",
      "text/plain": [
       "<Figure size 800x800 with 1 Axes>"
      ]
     },
     "metadata": {},
     "output_type": "display_data"
    }
   ],
   "source": [
    "# Convert total durations into a pie chart\n",
    "# First, map the numeric category codes to labels and handle missing categories\n",
    "labels = []\n",
    "durations = []\n",
    "for cat_code, total_minutes in activity_durations.items():\n",
    "    if cat_code in activity_labels:\n",
    "        labels.append(activity_labels[cat_code])\n",
    "    else:\n",
    "        labels.append(f\"Unknown_{cat_code}\")\n",
    "    durations.append(total_minutes)\n",
    "\n",
    "# Calculate total duration across all activities\n",
    "total_all_activities = sum(durations)\n",
    "\n",
    "# Create a pie chart\n",
    "plt.figure(figsize=(8, 8))\n",
    "plt.pie(\n",
    "    durations, \n",
    "    labels=labels,\n",
    "    autopct=lambda p: f'{p:.1f}%\\n({p * total_all_activities/100:.0f} min)',\n",
    "    startangle=140\n",
    ")\n",
    "\n",
    "plt.title(\"Percentage of Activity Durations (All Participants)\")\n",
    "plt.axis('equal')  # Equal aspect ratio ensures pie is drawn as a circle.\n",
    "plt.tight_layout()\n",
    "plt.show()"
   ]
  },
  {
   "cell_type": "code",
   "execution_count": 56,
   "metadata": {},
   "outputs": [
    {
     "data": {
      "application/vnd.plotly.v1+json": {
       "config": {
        "plotlyServerURL": "https://plot.ly"
       },
       "data": [
        {
         "domain": {
          "x": [
           0,
           1
          ],
          "y": [
           0,
           1
          ]
         },
         "hovertemplate": "label=%{label}<br>value=%{value}<extra></extra>",
         "labels": [
          "Lying down",
          "Large screen usage",
          "Caffeinated drinks",
          "Heavy movement",
          "Eating",
          "Light movement",
          "Sitting",
          "Medium movement",
          "Small screen usage",
          "Sleeping",
          "Alcohol consumption",
          "Smoking"
         ],
         "legendgroup": "",
         "name": "",
         "showlegend": true,
         "text": [
          "32.9%<br>(118.1 hrs)",
          "",
          "",
          "9.6%<br>(34.3 hrs)",
          "14.9%<br>(53.5 hrs)",
          "",
          "28.8%<br>(103.4 hrs)",
          "",
          "5.9%<br>(21.0 hrs)",
          "",
          "",
          ""
         ],
         "textinfo": "text+percent",
         "type": "pie",
         "values": [
          7086,
          385,
          70,
          2059,
          3209,
          87,
          6202,
          460,
          1262,
          318,
          227,
          160
         ]
        }
       ],
       "layout": {
        "legend": {
         "tracegroupgap": 0
        },
        "template": {
         "data": {
          "bar": [
           {
            "error_x": {
             "color": "#2a3f5f"
            },
            "error_y": {
             "color": "#2a3f5f"
            },
            "marker": {
             "line": {
              "color": "#E5ECF6",
              "width": 0.5
             },
             "pattern": {
              "fillmode": "overlay",
              "size": 10,
              "solidity": 0.2
             }
            },
            "type": "bar"
           }
          ],
          "barpolar": [
           {
            "marker": {
             "line": {
              "color": "#E5ECF6",
              "width": 0.5
             },
             "pattern": {
              "fillmode": "overlay",
              "size": 10,
              "solidity": 0.2
             }
            },
            "type": "barpolar"
           }
          ],
          "carpet": [
           {
            "aaxis": {
             "endlinecolor": "#2a3f5f",
             "gridcolor": "white",
             "linecolor": "white",
             "minorgridcolor": "white",
             "startlinecolor": "#2a3f5f"
            },
            "baxis": {
             "endlinecolor": "#2a3f5f",
             "gridcolor": "white",
             "linecolor": "white",
             "minorgridcolor": "white",
             "startlinecolor": "#2a3f5f"
            },
            "type": "carpet"
           }
          ],
          "choropleth": [
           {
            "colorbar": {
             "outlinewidth": 0,
             "ticks": ""
            },
            "type": "choropleth"
           }
          ],
          "contour": [
           {
            "colorbar": {
             "outlinewidth": 0,
             "ticks": ""
            },
            "colorscale": [
             [
              0,
              "#0d0887"
             ],
             [
              0.1111111111111111,
              "#46039f"
             ],
             [
              0.2222222222222222,
              "#7201a8"
             ],
             [
              0.3333333333333333,
              "#9c179e"
             ],
             [
              0.4444444444444444,
              "#bd3786"
             ],
             [
              0.5555555555555556,
              "#d8576b"
             ],
             [
              0.6666666666666666,
              "#ed7953"
             ],
             [
              0.7777777777777778,
              "#fb9f3a"
             ],
             [
              0.8888888888888888,
              "#fdca26"
             ],
             [
              1,
              "#f0f921"
             ]
            ],
            "type": "contour"
           }
          ],
          "contourcarpet": [
           {
            "colorbar": {
             "outlinewidth": 0,
             "ticks": ""
            },
            "type": "contourcarpet"
           }
          ],
          "heatmap": [
           {
            "colorbar": {
             "outlinewidth": 0,
             "ticks": ""
            },
            "colorscale": [
             [
              0,
              "#0d0887"
             ],
             [
              0.1111111111111111,
              "#46039f"
             ],
             [
              0.2222222222222222,
              "#7201a8"
             ],
             [
              0.3333333333333333,
              "#9c179e"
             ],
             [
              0.4444444444444444,
              "#bd3786"
             ],
             [
              0.5555555555555556,
              "#d8576b"
             ],
             [
              0.6666666666666666,
              "#ed7953"
             ],
             [
              0.7777777777777778,
              "#fb9f3a"
             ],
             [
              0.8888888888888888,
              "#fdca26"
             ],
             [
              1,
              "#f0f921"
             ]
            ],
            "type": "heatmap"
           }
          ],
          "heatmapgl": [
           {
            "colorbar": {
             "outlinewidth": 0,
             "ticks": ""
            },
            "colorscale": [
             [
              0,
              "#0d0887"
             ],
             [
              0.1111111111111111,
              "#46039f"
             ],
             [
              0.2222222222222222,
              "#7201a8"
             ],
             [
              0.3333333333333333,
              "#9c179e"
             ],
             [
              0.4444444444444444,
              "#bd3786"
             ],
             [
              0.5555555555555556,
              "#d8576b"
             ],
             [
              0.6666666666666666,
              "#ed7953"
             ],
             [
              0.7777777777777778,
              "#fb9f3a"
             ],
             [
              0.8888888888888888,
              "#fdca26"
             ],
             [
              1,
              "#f0f921"
             ]
            ],
            "type": "heatmapgl"
           }
          ],
          "histogram": [
           {
            "marker": {
             "pattern": {
              "fillmode": "overlay",
              "size": 10,
              "solidity": 0.2
             }
            },
            "type": "histogram"
           }
          ],
          "histogram2d": [
           {
            "colorbar": {
             "outlinewidth": 0,
             "ticks": ""
            },
            "colorscale": [
             [
              0,
              "#0d0887"
             ],
             [
              0.1111111111111111,
              "#46039f"
             ],
             [
              0.2222222222222222,
              "#7201a8"
             ],
             [
              0.3333333333333333,
              "#9c179e"
             ],
             [
              0.4444444444444444,
              "#bd3786"
             ],
             [
              0.5555555555555556,
              "#d8576b"
             ],
             [
              0.6666666666666666,
              "#ed7953"
             ],
             [
              0.7777777777777778,
              "#fb9f3a"
             ],
             [
              0.8888888888888888,
              "#fdca26"
             ],
             [
              1,
              "#f0f921"
             ]
            ],
            "type": "histogram2d"
           }
          ],
          "histogram2dcontour": [
           {
            "colorbar": {
             "outlinewidth": 0,
             "ticks": ""
            },
            "colorscale": [
             [
              0,
              "#0d0887"
             ],
             [
              0.1111111111111111,
              "#46039f"
             ],
             [
              0.2222222222222222,
              "#7201a8"
             ],
             [
              0.3333333333333333,
              "#9c179e"
             ],
             [
              0.4444444444444444,
              "#bd3786"
             ],
             [
              0.5555555555555556,
              "#d8576b"
             ],
             [
              0.6666666666666666,
              "#ed7953"
             ],
             [
              0.7777777777777778,
              "#fb9f3a"
             ],
             [
              0.8888888888888888,
              "#fdca26"
             ],
             [
              1,
              "#f0f921"
             ]
            ],
            "type": "histogram2dcontour"
           }
          ],
          "mesh3d": [
           {
            "colorbar": {
             "outlinewidth": 0,
             "ticks": ""
            },
            "type": "mesh3d"
           }
          ],
          "parcoords": [
           {
            "line": {
             "colorbar": {
              "outlinewidth": 0,
              "ticks": ""
             }
            },
            "type": "parcoords"
           }
          ],
          "pie": [
           {
            "automargin": true,
            "type": "pie"
           }
          ],
          "scatter": [
           {
            "fillpattern": {
             "fillmode": "overlay",
             "size": 10,
             "solidity": 0.2
            },
            "type": "scatter"
           }
          ],
          "scatter3d": [
           {
            "line": {
             "colorbar": {
              "outlinewidth": 0,
              "ticks": ""
             }
            },
            "marker": {
             "colorbar": {
              "outlinewidth": 0,
              "ticks": ""
             }
            },
            "type": "scatter3d"
           }
          ],
          "scattercarpet": [
           {
            "marker": {
             "colorbar": {
              "outlinewidth": 0,
              "ticks": ""
             }
            },
            "type": "scattercarpet"
           }
          ],
          "scattergeo": [
           {
            "marker": {
             "colorbar": {
              "outlinewidth": 0,
              "ticks": ""
             }
            },
            "type": "scattergeo"
           }
          ],
          "scattergl": [
           {
            "marker": {
             "colorbar": {
              "outlinewidth": 0,
              "ticks": ""
             }
            },
            "type": "scattergl"
           }
          ],
          "scattermapbox": [
           {
            "marker": {
             "colorbar": {
              "outlinewidth": 0,
              "ticks": ""
             }
            },
            "type": "scattermapbox"
           }
          ],
          "scatterpolar": [
           {
            "marker": {
             "colorbar": {
              "outlinewidth": 0,
              "ticks": ""
             }
            },
            "type": "scatterpolar"
           }
          ],
          "scatterpolargl": [
           {
            "marker": {
             "colorbar": {
              "outlinewidth": 0,
              "ticks": ""
             }
            },
            "type": "scatterpolargl"
           }
          ],
          "scatterternary": [
           {
            "marker": {
             "colorbar": {
              "outlinewidth": 0,
              "ticks": ""
             }
            },
            "type": "scatterternary"
           }
          ],
          "surface": [
           {
            "colorbar": {
             "outlinewidth": 0,
             "ticks": ""
            },
            "colorscale": [
             [
              0,
              "#0d0887"
             ],
             [
              0.1111111111111111,
              "#46039f"
             ],
             [
              0.2222222222222222,
              "#7201a8"
             ],
             [
              0.3333333333333333,
              "#9c179e"
             ],
             [
              0.4444444444444444,
              "#bd3786"
             ],
             [
              0.5555555555555556,
              "#d8576b"
             ],
             [
              0.6666666666666666,
              "#ed7953"
             ],
             [
              0.7777777777777778,
              "#fb9f3a"
             ],
             [
              0.8888888888888888,
              "#fdca26"
             ],
             [
              1,
              "#f0f921"
             ]
            ],
            "type": "surface"
           }
          ],
          "table": [
           {
            "cells": {
             "fill": {
              "color": "#EBF0F8"
             },
             "line": {
              "color": "white"
             }
            },
            "header": {
             "fill": {
              "color": "#C8D4E3"
             },
             "line": {
              "color": "white"
             }
            },
            "type": "table"
           }
          ]
         },
         "layout": {
          "annotationdefaults": {
           "arrowcolor": "#2a3f5f",
           "arrowhead": 0,
           "arrowwidth": 1
          },
          "autotypenumbers": "strict",
          "coloraxis": {
           "colorbar": {
            "outlinewidth": 0,
            "ticks": ""
           }
          },
          "colorscale": {
           "diverging": [
            [
             0,
             "#8e0152"
            ],
            [
             0.1,
             "#c51b7d"
            ],
            [
             0.2,
             "#de77ae"
            ],
            [
             0.3,
             "#f1b6da"
            ],
            [
             0.4,
             "#fde0ef"
            ],
            [
             0.5,
             "#f7f7f7"
            ],
            [
             0.6,
             "#e6f5d0"
            ],
            [
             0.7,
             "#b8e186"
            ],
            [
             0.8,
             "#7fbc41"
            ],
            [
             0.9,
             "#4d9221"
            ],
            [
             1,
             "#276419"
            ]
           ],
           "sequential": [
            [
             0,
             "#0d0887"
            ],
            [
             0.1111111111111111,
             "#46039f"
            ],
            [
             0.2222222222222222,
             "#7201a8"
            ],
            [
             0.3333333333333333,
             "#9c179e"
            ],
            [
             0.4444444444444444,
             "#bd3786"
            ],
            [
             0.5555555555555556,
             "#d8576b"
            ],
            [
             0.6666666666666666,
             "#ed7953"
            ],
            [
             0.7777777777777778,
             "#fb9f3a"
            ],
            [
             0.8888888888888888,
             "#fdca26"
            ],
            [
             1,
             "#f0f921"
            ]
           ],
           "sequentialminus": [
            [
             0,
             "#0d0887"
            ],
            [
             0.1111111111111111,
             "#46039f"
            ],
            [
             0.2222222222222222,
             "#7201a8"
            ],
            [
             0.3333333333333333,
             "#9c179e"
            ],
            [
             0.4444444444444444,
             "#bd3786"
            ],
            [
             0.5555555555555556,
             "#d8576b"
            ],
            [
             0.6666666666666666,
             "#ed7953"
            ],
            [
             0.7777777777777778,
             "#fb9f3a"
            ],
            [
             0.8888888888888888,
             "#fdca26"
            ],
            [
             1,
             "#f0f921"
            ]
           ]
          },
          "colorway": [
           "#636efa",
           "#EF553B",
           "#00cc96",
           "#ab63fa",
           "#FFA15A",
           "#19d3f3",
           "#FF6692",
           "#B6E880",
           "#FF97FF",
           "#FECB52"
          ],
          "font": {
           "color": "#2a3f5f"
          },
          "geo": {
           "bgcolor": "white",
           "lakecolor": "white",
           "landcolor": "#E5ECF6",
           "showlakes": true,
           "showland": true,
           "subunitcolor": "white"
          },
          "hoverlabel": {
           "align": "left"
          },
          "hovermode": "closest",
          "mapbox": {
           "style": "light"
          },
          "paper_bgcolor": "white",
          "plot_bgcolor": "#E5ECF6",
          "polar": {
           "angularaxis": {
            "gridcolor": "white",
            "linecolor": "white",
            "ticks": ""
           },
           "bgcolor": "#E5ECF6",
           "radialaxis": {
            "gridcolor": "white",
            "linecolor": "white",
            "ticks": ""
           }
          },
          "scene": {
           "xaxis": {
            "backgroundcolor": "#E5ECF6",
            "gridcolor": "white",
            "gridwidth": 2,
            "linecolor": "white",
            "showbackground": true,
            "ticks": "",
            "zerolinecolor": "white"
           },
           "yaxis": {
            "backgroundcolor": "#E5ECF6",
            "gridcolor": "white",
            "gridwidth": 2,
            "linecolor": "white",
            "showbackground": true,
            "ticks": "",
            "zerolinecolor": "white"
           },
           "zaxis": {
            "backgroundcolor": "#E5ECF6",
            "gridcolor": "white",
            "gridwidth": 2,
            "linecolor": "white",
            "showbackground": true,
            "ticks": "",
            "zerolinecolor": "white"
           }
          },
          "shapedefaults": {
           "line": {
            "color": "#2a3f5f"
           }
          },
          "ternary": {
           "aaxis": {
            "gridcolor": "white",
            "linecolor": "white",
            "ticks": ""
           },
           "baxis": {
            "gridcolor": "white",
            "linecolor": "white",
            "ticks": ""
           },
           "bgcolor": "#E5ECF6",
           "caxis": {
            "gridcolor": "white",
            "linecolor": "white",
            "ticks": ""
           }
          },
          "title": {
           "x": 0.05
          },
          "xaxis": {
           "automargin": true,
           "gridcolor": "white",
           "linecolor": "white",
           "ticks": "",
           "title": {
            "standoff": 15
           },
           "zerolinecolor": "white",
           "zerolinewidth": 2
          },
          "yaxis": {
           "automargin": true,
           "gridcolor": "white",
           "linecolor": "white",
           "ticks": "",
           "title": {
            "standoff": 15
           },
           "zerolinecolor": "white",
           "zerolinewidth": 2
          }
         }
        },
        "title": {
         "text": "Activity Durations of users"
        }
       }
      }
     },
     "metadata": {},
     "output_type": "display_data"
    }
   ],
   "source": [
    "import plotly.express as px\n",
    "\n",
    "# Assume 'labels' and 'durations' are already computed\n",
    "total_all_activities = sum(durations)\n",
    "threshold = 5.0  # percentage threshold\n",
    "\n",
    "# Compute percentage for each slice\n",
    "percentages = [(d / total_all_activities) * 100 for d in durations]\n",
    "\n",
    "# Create custom text: if a slice's percentage is >= threshold, show details; otherwise, show an empty string.\n",
    "display_text = [\n",
    "    f\"{p:.1f}%<br>({d/60:.1f} hrs)\" if p >= threshold else \"\"\n",
    "    for p, d in zip(percentages, durations)\n",
    "]\n",
    "\n",
    "# Create the pie chart\n",
    "fig = px.pie(\n",
    "    names=labels,\n",
    "    values=durations,\n",
    "    title=\"Activity Durations of users\"\n",
    ")\n",
    "\n",
    "# Update the trace: display our custom text inside the slices (only for major slices)\n",
    "# The legend will still show all category names.\n",
    "fig.update_traces(text=display_text, textinfo=\"text+percent\", showlegend=True)\n",
    "\n",
    "fig.show()\n",
    "\n",
    "\n"
   ]
  },
  {
   "cell_type": "code",
   "execution_count": null,
   "metadata": {},
   "outputs": [],
   "source": []
  },
  {
   "cell_type": "code",
   "execution_count": 4,
   "metadata": {},
   "outputs": [
    {
     "name": "stdout",
     "output_type": "stream",
     "text": [
      "\n",
      "File: user_info (user_info.csv)\n",
      "Number of columns: 5\n",
      "Column names:\n",
      "['Unnamed: 0', 'Gender', 'Weight', 'Height', 'Age']\n",
      "head:\n",
      "   Unnamed: 0 Gender  Weight  Height  Age\n",
      "0           0      M      65     169   29\n",
      "\n",
      "File: sleep (sleep.csv)\n",
      "Number of columns: 17\n",
      "Column names:\n",
      "['Unnamed: 0', 'In Bed Date', 'In Bed Time', 'Out Bed Date', 'Out Bed Time', 'Onset Date', 'Onset Time', 'Latency', 'Efficiency', 'Total Minutes in Bed', 'Total Sleep Time (TST)', 'Wake After Sleep Onset (WASO)', 'Number of Awakenings', 'Average Awakening Length', 'Movement Index', 'Fragmentation Index', 'Sleep Fragmentation Index']\n",
      "head:\n",
      "   Unnamed: 0  In Bed Date In Bed Time  Out Bed Date Out Bed Time  Onset Date  \\\n",
      "0           0            2       00:46             2        03:31           2   \n",
      "1           1            2       03:57             2        07:30           2   \n",
      "\n",
      "  Onset Time  Latency  Efficiency  Total Minutes in Bed  \\\n",
      "0      00:46        0       87.27                   165   \n",
      "1      03:57        0       92.02                   213   \n",
      "\n",
      "   Total Sleep Time (TST)  Wake After Sleep Onset (WASO)  \\\n",
      "0                     144                             21   \n",
      "1                     196                             17   \n",
      "\n",
      "   Number of Awakenings  Average Awakening Length  Movement Index  \\\n",
      "0                     9                      2.33           9.091   \n",
      "1                     9                      1.89           8.920   \n",
      "\n",
      "   Fragmentation Index  Sleep Fragmentation Index  \n",
      "0                   10                     19.091  \n",
      "1                    0                      8.920  \n",
      "\n",
      "File: RR (RR.csv)\n",
      "Number of columns: 4\n",
      "Column names:\n",
      "['Unnamed: 0', 'ibi_s', 'day', 'time']\n",
      "head:\n",
      "   Unnamed: 0  ibi_s  day      time\n",
      "0           1  0.258    1  10:10:17\n",
      "1           2  0.319    1  10:10:18\n",
      "2           3  0.266    1  10:10:18\n",
      "3           4  0.401    1  10:10:18\n",
      "4           5  1.089    1  10:10:19\n",
      "\n",
      "File: questionnaire (questionnaire.csv)\n",
      "Number of columns: 20\n",
      "Column names:\n",
      "['Unnamed: 0', 'MEQ', 'STAI1', 'STAI2', 'Pittsburgh', 'Daily_stress', 'BISBAS_bis', 'BISBAS_reward', 'BISBAS_drive', 'BISBAS_fun', 'panas_pos_10', 'panas_pos_14', 'panas_pos_18', 'panas_pos_22', 'panas_pos_9+1', 'panas_neg_10', 'panas_neg_14', 'panas_neg_18', 'panas_neg_22', 'panas_neg_9+1']\n",
      "head:\n",
      "   Unnamed: 0  MEQ  STAI1  STAI2  Pittsburgh  Daily_stress  BISBAS_bis  \\\n",
      "0           0   47     41     43           5            23          22   \n",
      "\n",
      "   BISBAS_reward  BISBAS_drive  BISBAS_fun  panas_pos_10  panas_pos_14  \\\n",
      "0             21            14          14            21            17   \n",
      "\n",
      "   panas_pos_18  panas_pos_22  panas_pos_9+1  panas_neg_10  panas_neg_14  \\\n",
      "0            12            18             17            11            13   \n",
      "\n",
      "   panas_neg_18  panas_neg_22  panas_neg_9+1  \n",
      "0            13            10             10  \n",
      "\n",
      "File: activity (Activity.csv)\n",
      "Number of columns: 5\n",
      "Column names:\n",
      "['Unnamed: 0', 'Activity', 'Start', 'End', 'Day']\n",
      "head:\n",
      "   Unnamed: 0  Activity  Start    End  Day\n",
      "0           0         2  10:00  10:22    1\n",
      "1           1         9  10:37  10:40    1\n",
      "2           2        10  10:40  10:45    1\n",
      "3           3         6  10:55  11:00    1\n",
      "4           4         2  11:00  11:20    1\n",
      "\n",
      "File: actigraph (Actigraph.csv)\n",
      "Number of columns: 13\n",
      "Column names:\n",
      "['Unnamed: 0', 'Axis1', 'Axis2', 'Axis3', 'Steps', 'HR', 'Inclinometer Off', 'Inclinometer Standing', 'Inclinometer Sitting', 'Inclinometer Lying', 'Vector Magnitude', 'day', 'time']\n",
      "head:\n",
      "   Unnamed: 0  Axis1  Axis2  Axis3  Steps     HR  Inclinometer Off  \\\n",
      "0          82      0      0      0      0   68.0                 0   \n",
      "1          83     11      4      7      1   68.0                 0   \n",
      "2          84      0     21     10      0   68.0                 0   \n",
      "3          85      0      1     24      0   68.0                 0   \n",
      "4          86     34     14     63      1  154.0                 0   \n",
      "\n",
      "   Inclinometer Standing  Inclinometer Sitting  Inclinometer Lying  \\\n",
      "0                      1                     0                   0   \n",
      "1                      1                     0                   0   \n",
      "2                      0                     1                   0   \n",
      "3                      0                     1                   0   \n",
      "4                      1                     0                   0   \n",
      "\n",
      "   Vector Magnitude  day      time  \n",
      "0              0.00    1  10:10:22  \n",
      "1             13.64    1  10:10:23  \n",
      "2             23.26    1  10:10:24  \n",
      "3             24.02    1  10:10:25  \n",
      "4             72.95    1  10:10:26  \n",
      "\n",
      "File: saliva (saliva.csv)\n",
      "Number of columns: 4\n",
      "Column names:\n",
      "['Unnamed: 0', 'SAMPLES', 'Cortisol NORM', 'Melatonin NORM']\n",
      "head:\n",
      "   Unnamed: 0       SAMPLES  Cortisol NORM  Melatonin NORM\n",
      "0           1  before sleep       0.034137    1.738385e-08\n",
      "1           2       wake up       0.077939    6.747893e-09\n"
     ]
    }
   ],
   "source": [
    "for name, file in files.items():\n",
    "    file_path = os.path.join(data_folder, file)\n",
    "    try:\n",
    "        df = pd.read_csv(file_path)\n",
    "        print(f\"\\nFile: {name} ({file})\")\n",
    "        print(f\"Number of columns: {len(df.columns)}\")\n",
    "        print(\"Column names:\")\n",
    "        print(df.columns.tolist())\n",
    "        print(\"head:\")\n",
    "        print(df.head())\n",
    "    except Exception as e:\n",
    "        print(f\"Error reading {file_path}: {e}\")"
   ]
  },
  {
   "cell_type": "code",
   "execution_count": 57,
   "metadata": {},
   "outputs": [
    {
     "data": {
      "application/vnd.plotly.v1+json": {
       "config": {
        "plotlyServerURL": "https://plot.ly"
       },
       "data": [
        {
         "domain": {
          "x": [
           0,
           1
          ],
          "y": [
           0,
           1
          ]
         },
         "hovertemplate": "Chronotype=%{label}<br>Count=%{value}<extra></extra>",
         "insidetextorientation": "radial",
         "labels": [
          "Intermediate",
          "Morning",
          "Evening"
         ],
         "legendgroup": "",
         "name": "",
         "showlegend": true,
         "textinfo": "label+percent+value",
         "type": "pie",
         "values": [
          16,
          4,
          2
         ]
        }
       ],
       "layout": {
        "legend": {
         "tracegroupgap": 0
        },
        "template": {
         "data": {
          "bar": [
           {
            "error_x": {
             "color": "#2a3f5f"
            },
            "error_y": {
             "color": "#2a3f5f"
            },
            "marker": {
             "line": {
              "color": "#E5ECF6",
              "width": 0.5
             },
             "pattern": {
              "fillmode": "overlay",
              "size": 10,
              "solidity": 0.2
             }
            },
            "type": "bar"
           }
          ],
          "barpolar": [
           {
            "marker": {
             "line": {
              "color": "#E5ECF6",
              "width": 0.5
             },
             "pattern": {
              "fillmode": "overlay",
              "size": 10,
              "solidity": 0.2
             }
            },
            "type": "barpolar"
           }
          ],
          "carpet": [
           {
            "aaxis": {
             "endlinecolor": "#2a3f5f",
             "gridcolor": "white",
             "linecolor": "white",
             "minorgridcolor": "white",
             "startlinecolor": "#2a3f5f"
            },
            "baxis": {
             "endlinecolor": "#2a3f5f",
             "gridcolor": "white",
             "linecolor": "white",
             "minorgridcolor": "white",
             "startlinecolor": "#2a3f5f"
            },
            "type": "carpet"
           }
          ],
          "choropleth": [
           {
            "colorbar": {
             "outlinewidth": 0,
             "ticks": ""
            },
            "type": "choropleth"
           }
          ],
          "contour": [
           {
            "colorbar": {
             "outlinewidth": 0,
             "ticks": ""
            },
            "colorscale": [
             [
              0,
              "#0d0887"
             ],
             [
              0.1111111111111111,
              "#46039f"
             ],
             [
              0.2222222222222222,
              "#7201a8"
             ],
             [
              0.3333333333333333,
              "#9c179e"
             ],
             [
              0.4444444444444444,
              "#bd3786"
             ],
             [
              0.5555555555555556,
              "#d8576b"
             ],
             [
              0.6666666666666666,
              "#ed7953"
             ],
             [
              0.7777777777777778,
              "#fb9f3a"
             ],
             [
              0.8888888888888888,
              "#fdca26"
             ],
             [
              1,
              "#f0f921"
             ]
            ],
            "type": "contour"
           }
          ],
          "contourcarpet": [
           {
            "colorbar": {
             "outlinewidth": 0,
             "ticks": ""
            },
            "type": "contourcarpet"
           }
          ],
          "heatmap": [
           {
            "colorbar": {
             "outlinewidth": 0,
             "ticks": ""
            },
            "colorscale": [
             [
              0,
              "#0d0887"
             ],
             [
              0.1111111111111111,
              "#46039f"
             ],
             [
              0.2222222222222222,
              "#7201a8"
             ],
             [
              0.3333333333333333,
              "#9c179e"
             ],
             [
              0.4444444444444444,
              "#bd3786"
             ],
             [
              0.5555555555555556,
              "#d8576b"
             ],
             [
              0.6666666666666666,
              "#ed7953"
             ],
             [
              0.7777777777777778,
              "#fb9f3a"
             ],
             [
              0.8888888888888888,
              "#fdca26"
             ],
             [
              1,
              "#f0f921"
             ]
            ],
            "type": "heatmap"
           }
          ],
          "heatmapgl": [
           {
            "colorbar": {
             "outlinewidth": 0,
             "ticks": ""
            },
            "colorscale": [
             [
              0,
              "#0d0887"
             ],
             [
              0.1111111111111111,
              "#46039f"
             ],
             [
              0.2222222222222222,
              "#7201a8"
             ],
             [
              0.3333333333333333,
              "#9c179e"
             ],
             [
              0.4444444444444444,
              "#bd3786"
             ],
             [
              0.5555555555555556,
              "#d8576b"
             ],
             [
              0.6666666666666666,
              "#ed7953"
             ],
             [
              0.7777777777777778,
              "#fb9f3a"
             ],
             [
              0.8888888888888888,
              "#fdca26"
             ],
             [
              1,
              "#f0f921"
             ]
            ],
            "type": "heatmapgl"
           }
          ],
          "histogram": [
           {
            "marker": {
             "pattern": {
              "fillmode": "overlay",
              "size": 10,
              "solidity": 0.2
             }
            },
            "type": "histogram"
           }
          ],
          "histogram2d": [
           {
            "colorbar": {
             "outlinewidth": 0,
             "ticks": ""
            },
            "colorscale": [
             [
              0,
              "#0d0887"
             ],
             [
              0.1111111111111111,
              "#46039f"
             ],
             [
              0.2222222222222222,
              "#7201a8"
             ],
             [
              0.3333333333333333,
              "#9c179e"
             ],
             [
              0.4444444444444444,
              "#bd3786"
             ],
             [
              0.5555555555555556,
              "#d8576b"
             ],
             [
              0.6666666666666666,
              "#ed7953"
             ],
             [
              0.7777777777777778,
              "#fb9f3a"
             ],
             [
              0.8888888888888888,
              "#fdca26"
             ],
             [
              1,
              "#f0f921"
             ]
            ],
            "type": "histogram2d"
           }
          ],
          "histogram2dcontour": [
           {
            "colorbar": {
             "outlinewidth": 0,
             "ticks": ""
            },
            "colorscale": [
             [
              0,
              "#0d0887"
             ],
             [
              0.1111111111111111,
              "#46039f"
             ],
             [
              0.2222222222222222,
              "#7201a8"
             ],
             [
              0.3333333333333333,
              "#9c179e"
             ],
             [
              0.4444444444444444,
              "#bd3786"
             ],
             [
              0.5555555555555556,
              "#d8576b"
             ],
             [
              0.6666666666666666,
              "#ed7953"
             ],
             [
              0.7777777777777778,
              "#fb9f3a"
             ],
             [
              0.8888888888888888,
              "#fdca26"
             ],
             [
              1,
              "#f0f921"
             ]
            ],
            "type": "histogram2dcontour"
           }
          ],
          "mesh3d": [
           {
            "colorbar": {
             "outlinewidth": 0,
             "ticks": ""
            },
            "type": "mesh3d"
           }
          ],
          "parcoords": [
           {
            "line": {
             "colorbar": {
              "outlinewidth": 0,
              "ticks": ""
             }
            },
            "type": "parcoords"
           }
          ],
          "pie": [
           {
            "automargin": true,
            "type": "pie"
           }
          ],
          "scatter": [
           {
            "fillpattern": {
             "fillmode": "overlay",
             "size": 10,
             "solidity": 0.2
            },
            "type": "scatter"
           }
          ],
          "scatter3d": [
           {
            "line": {
             "colorbar": {
              "outlinewidth": 0,
              "ticks": ""
             }
            },
            "marker": {
             "colorbar": {
              "outlinewidth": 0,
              "ticks": ""
             }
            },
            "type": "scatter3d"
           }
          ],
          "scattercarpet": [
           {
            "marker": {
             "colorbar": {
              "outlinewidth": 0,
              "ticks": ""
             }
            },
            "type": "scattercarpet"
           }
          ],
          "scattergeo": [
           {
            "marker": {
             "colorbar": {
              "outlinewidth": 0,
              "ticks": ""
             }
            },
            "type": "scattergeo"
           }
          ],
          "scattergl": [
           {
            "marker": {
             "colorbar": {
              "outlinewidth": 0,
              "ticks": ""
             }
            },
            "type": "scattergl"
           }
          ],
          "scattermapbox": [
           {
            "marker": {
             "colorbar": {
              "outlinewidth": 0,
              "ticks": ""
             }
            },
            "type": "scattermapbox"
           }
          ],
          "scatterpolar": [
           {
            "marker": {
             "colorbar": {
              "outlinewidth": 0,
              "ticks": ""
             }
            },
            "type": "scatterpolar"
           }
          ],
          "scatterpolargl": [
           {
            "marker": {
             "colorbar": {
              "outlinewidth": 0,
              "ticks": ""
             }
            },
            "type": "scatterpolargl"
           }
          ],
          "scatterternary": [
           {
            "marker": {
             "colorbar": {
              "outlinewidth": 0,
              "ticks": ""
             }
            },
            "type": "scatterternary"
           }
          ],
          "surface": [
           {
            "colorbar": {
             "outlinewidth": 0,
             "ticks": ""
            },
            "colorscale": [
             [
              0,
              "#0d0887"
             ],
             [
              0.1111111111111111,
              "#46039f"
             ],
             [
              0.2222222222222222,
              "#7201a8"
             ],
             [
              0.3333333333333333,
              "#9c179e"
             ],
             [
              0.4444444444444444,
              "#bd3786"
             ],
             [
              0.5555555555555556,
              "#d8576b"
             ],
             [
              0.6666666666666666,
              "#ed7953"
             ],
             [
              0.7777777777777778,
              "#fb9f3a"
             ],
             [
              0.8888888888888888,
              "#fdca26"
             ],
             [
              1,
              "#f0f921"
             ]
            ],
            "type": "surface"
           }
          ],
          "table": [
           {
            "cells": {
             "fill": {
              "color": "#EBF0F8"
             },
             "line": {
              "color": "white"
             }
            },
            "header": {
             "fill": {
              "color": "#C8D4E3"
             },
             "line": {
              "color": "white"
             }
            },
            "type": "table"
           }
          ]
         },
         "layout": {
          "annotationdefaults": {
           "arrowcolor": "#2a3f5f",
           "arrowhead": 0,
           "arrowwidth": 1
          },
          "autotypenumbers": "strict",
          "coloraxis": {
           "colorbar": {
            "outlinewidth": 0,
            "ticks": ""
           }
          },
          "colorscale": {
           "diverging": [
            [
             0,
             "#8e0152"
            ],
            [
             0.1,
             "#c51b7d"
            ],
            [
             0.2,
             "#de77ae"
            ],
            [
             0.3,
             "#f1b6da"
            ],
            [
             0.4,
             "#fde0ef"
            ],
            [
             0.5,
             "#f7f7f7"
            ],
            [
             0.6,
             "#e6f5d0"
            ],
            [
             0.7,
             "#b8e186"
            ],
            [
             0.8,
             "#7fbc41"
            ],
            [
             0.9,
             "#4d9221"
            ],
            [
             1,
             "#276419"
            ]
           ],
           "sequential": [
            [
             0,
             "#0d0887"
            ],
            [
             0.1111111111111111,
             "#46039f"
            ],
            [
             0.2222222222222222,
             "#7201a8"
            ],
            [
             0.3333333333333333,
             "#9c179e"
            ],
            [
             0.4444444444444444,
             "#bd3786"
            ],
            [
             0.5555555555555556,
             "#d8576b"
            ],
            [
             0.6666666666666666,
             "#ed7953"
            ],
            [
             0.7777777777777778,
             "#fb9f3a"
            ],
            [
             0.8888888888888888,
             "#fdca26"
            ],
            [
             1,
             "#f0f921"
            ]
           ],
           "sequentialminus": [
            [
             0,
             "#0d0887"
            ],
            [
             0.1111111111111111,
             "#46039f"
            ],
            [
             0.2222222222222222,
             "#7201a8"
            ],
            [
             0.3333333333333333,
             "#9c179e"
            ],
            [
             0.4444444444444444,
             "#bd3786"
            ],
            [
             0.5555555555555556,
             "#d8576b"
            ],
            [
             0.6666666666666666,
             "#ed7953"
            ],
            [
             0.7777777777777778,
             "#fb9f3a"
            ],
            [
             0.8888888888888888,
             "#fdca26"
            ],
            [
             1,
             "#f0f921"
            ]
           ]
          },
          "colorway": [
           "#636efa",
           "#EF553B",
           "#00cc96",
           "#ab63fa",
           "#FFA15A",
           "#19d3f3",
           "#FF6692",
           "#B6E880",
           "#FF97FF",
           "#FECB52"
          ],
          "font": {
           "color": "#2a3f5f"
          },
          "geo": {
           "bgcolor": "white",
           "lakecolor": "white",
           "landcolor": "#E5ECF6",
           "showlakes": true,
           "showland": true,
           "subunitcolor": "white"
          },
          "hoverlabel": {
           "align": "left"
          },
          "hovermode": "closest",
          "mapbox": {
           "style": "light"
          },
          "paper_bgcolor": "white",
          "plot_bgcolor": "#E5ECF6",
          "polar": {
           "angularaxis": {
            "gridcolor": "white",
            "linecolor": "white",
            "ticks": ""
           },
           "bgcolor": "#E5ECF6",
           "radialaxis": {
            "gridcolor": "white",
            "linecolor": "white",
            "ticks": ""
           }
          },
          "scene": {
           "xaxis": {
            "backgroundcolor": "#E5ECF6",
            "gridcolor": "white",
            "gridwidth": 2,
            "linecolor": "white",
            "showbackground": true,
            "ticks": "",
            "zerolinecolor": "white"
           },
           "yaxis": {
            "backgroundcolor": "#E5ECF6",
            "gridcolor": "white",
            "gridwidth": 2,
            "linecolor": "white",
            "showbackground": true,
            "ticks": "",
            "zerolinecolor": "white"
           },
           "zaxis": {
            "backgroundcolor": "#E5ECF6",
            "gridcolor": "white",
            "gridwidth": 2,
            "linecolor": "white",
            "showbackground": true,
            "ticks": "",
            "zerolinecolor": "white"
           }
          },
          "shapedefaults": {
           "line": {
            "color": "#2a3f5f"
           }
          },
          "ternary": {
           "aaxis": {
            "gridcolor": "white",
            "linecolor": "white",
            "ticks": ""
           },
           "baxis": {
            "gridcolor": "white",
            "linecolor": "white",
            "ticks": ""
           },
           "bgcolor": "#E5ECF6",
           "caxis": {
            "gridcolor": "white",
            "linecolor": "white",
            "ticks": ""
           }
          },
          "title": {
           "x": 0.05
          },
          "xaxis": {
           "automargin": true,
           "gridcolor": "white",
           "linecolor": "white",
           "ticks": "",
           "title": {
            "standoff": 15
           },
           "zerolinecolor": "white",
           "zerolinewidth": 2
          },
          "yaxis": {
           "automargin": true,
           "gridcolor": "white",
           "linecolor": "white",
           "ticks": "",
           "title": {
            "standoff": 15
           },
           "zerolinecolor": "white",
           "zerolinewidth": 2
          }
         }
        },
        "title": {
         "text": "Distribution of Chronotypes Among Participants"
        }
       }
      }
     },
     "metadata": {},
     "output_type": "display_data"
    }
   ],
   "source": [
    "import os\n",
    "import pandas as pd\n",
    "import plotly.express as px\n",
    "\n",
    "# Adjust this path to your local dataset directory\n",
    "#DATA_DIR = r\"path\\to\\MMASH\\DataPaper\"\n",
    "\n",
    "# List to store each participant's chronotype\n",
    "chronotypes = []\n",
    "\n",
    "# Define a helper function to classify chronotype based on MEQ score\n",
    "def classify_chronotype(meq):\n",
    "    if pd.isnull(meq):\n",
    "        return None\n",
    "    elif meq < 41:\n",
    "        return \"Evening\"\n",
    "    elif 41 <= meq <= 58:\n",
    "        return \"Intermediate\"\n",
    "    else:\n",
    "        return \"Morning\"\n",
    "\n",
    "# Loop through each user folder and extract the MEQ score from questionnaire.csv\n",
    "for user_id in range(1, 23):\n",
    "    user_folder = os.path.join(DATA_DIR, f\"user_{user_id}\")\n",
    "    questionnaire_file = os.path.join(user_folder, \"questionnaire.csv\")\n",
    "    \n",
    "    if os.path.exists(questionnaire_file):\n",
    "        df_q = pd.read_csv(questionnaire_file)\n",
    "        # Assuming the MEQ score is in a column named \"MEQ\"\n",
    "        if \"MEQ\" in df_q.columns:\n",
    "            # Take the first (or average) MEQ value if there are multiple entries per participant\n",
    "            meq_value = df_q[\"MEQ\"].iloc[0]\n",
    "            chronotype = classify_chronotype(meq_value)\n",
    "            if chronotype is not None:\n",
    "                chronotypes.append(chronotype)\n",
    "    else:\n",
    "        print(f\"Warning: {questionnaire_file} not found for user_{user_id}\")\n",
    "\n",
    "# Count the frequency of each chronotype\n",
    "chronotype_counts = pd.Series(chronotypes).value_counts().reset_index()\n",
    "chronotype_counts.columns = ['Chronotype', 'Count']\n",
    "\n",
    "# Create a pie chart using Plotly Express\n",
    "fig = px.pie(\n",
    "    chronotype_counts,\n",
    "    names='Chronotype',\n",
    "    values='Count',\n",
    "    title=\"Distribution of Chronotypes Among Participants\"\n",
    ")\n",
    "\n",
    "# Optionally, update the trace to show percentage and count in the labels\n",
    "fig.update_traces(\n",
    "    textinfo='label+percent+value',\n",
    "    insidetextorientation='radial'\n",
    ")\n",
    "\n",
    "fig.show()"
   ]
  },
  {
   "cell_type": "code",
   "execution_count": null,
   "metadata": {},
   "outputs": [],
   "source": []
  }
 ],
 "metadata": {
  "kernelspec": {
   "display_name": "base",
   "language": "python",
   "name": "python3"
  },
  "language_info": {
   "codemirror_mode": {
    "name": "ipython",
    "version": 3
   },
   "file_extension": ".py",
   "mimetype": "text/x-python",
   "name": "python",
   "nbconvert_exporter": "python",
   "pygments_lexer": "ipython3",
   "version": "3.11.7"
  }
 },
 "nbformat": 4,
 "nbformat_minor": 2
}
